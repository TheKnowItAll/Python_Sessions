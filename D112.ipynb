{
 "cells": [
  {
   "cell_type": "raw",
   "id": "bf69684f",
   "metadata": {},
   "source": [
    "#  An example Python Function  \n",
    "def function_name( parameters ):  \n",
    "    # code block  "
   ]
  },
  {
   "cell_type": "code",
   "execution_count": 1,
   "id": "aea2a4f8",
   "metadata": {},
   "outputs": [
    {
     "name": "stdout",
     "output_type": "stream",
     "text": [
      "The square of the given number is:  36\n"
     ]
    }
   ],
   "source": [
    "# Example Python Code for User-Defined function  \n",
    "def square( num ):    \n",
    "    \"\"\"  \n",
    "    This function computes the square of the number.  \n",
    "    \"\"\"    \n",
    "    return num**2     \n",
    "object_ = square(6)    \n",
    "print( \"The square of the given number is: \", object_ )    "
   ]
  },
  {
   "cell_type": "code",
   "execution_count": 2,
   "id": "b887eb17",
   "metadata": {},
   "outputs": [
    {
     "name": "stdout",
     "output_type": "stream",
     "text": [
      "Length of the string Functions is:  9\n",
      "Length of the string Python is:  6\n"
     ]
    }
   ],
   "source": [
    "# Example Python Code for calling a function  \n",
    "# Defining a function    \n",
    "def a_function( string ):    \n",
    "    \"This prints the value of length of string\"    \n",
    "    return len(string)    \n",
    "    \n",
    "# Calling the function we defined    \n",
    "print( \"Length of the string Functions is: \", a_function( \"Functions\" ) )    \n",
    "print( \"Length of the string Python is: \", a_function( \"Python\" ) )    "
   ]
  },
  {
   "cell_type": "code",
   "execution_count": 3,
   "id": "1f2c392b",
   "metadata": {},
   "outputs": [
    {
     "name": "stdout",
     "output_type": "stream",
     "text": [
      "Squares of the list are:  [289, 2704, 64]\n"
     ]
    }
   ],
   "source": [
    "# Example Python Code for Pass by Reference vs. Value  \n",
    "# defining the function    \n",
    "def square( item_list ):    \n",
    "    '''''''This function will find the square of items in the list'''    \n",
    "    squares = [ ]    \n",
    "    for l in item_list:    \n",
    "        squares.append( l**2 )    \n",
    "    return squares    \n",
    "    \n",
    "# calling the defined function    \n",
    "my_list = [17, 52, 8];    \n",
    "my_result = square( my_list )    \n",
    "print( \"Squares of the list are: \", my_result )    "
   ]
  },
  {
   "cell_type": "markdown",
   "id": "3e208856",
   "metadata": {},
   "source": [
    "### Pass by Reference vs. Pass by Value"
   ]
  },
  {
   "cell_type": "markdown",
   "id": "2fe69719",
   "metadata": {},
   "source": [
    "All parameters in the Python programming language are provided by reference. It indicates that if we alter the value of an argument inside of a function, the calling function will likewise reflect the change"
   ]
  },
  {
   "cell_type": "code",
   "execution_count": 4,
   "id": "e2470bed",
   "metadata": {},
   "outputs": [
    {
     "name": "stdout",
     "output_type": "stream",
     "text": [
      "Squares of the list are:  [289, 2704, 64]\n"
     ]
    }
   ],
   "source": [
    "# Example Python Code for Pass by Reference vs. Value  \n",
    "# defining the function    \n",
    "def square( item_list ):    \n",
    "    '''''''This function will find the square of items in the list'''    \n",
    "    squares = [ ]    \n",
    "    for l in item_list:    \n",
    "        squares.append( l**2 )    \n",
    "    return squares    \n",
    "    \n",
    "# calling the defined function    \n",
    "my_list = [17, 52, 8];    \n",
    "my_result = square( my_list )    \n",
    "print( \"Squares of the list are: \", my_result )    "
   ]
  },
  {
   "cell_type": "markdown",
   "id": "25bebf50",
   "metadata": {},
   "source": [
    "### Function Arguments"
   ]
  },
  {
   "cell_type": "markdown",
   "id": "4fb20559",
   "metadata": {},
   "source": [
    "Default arguments - \n",
    "A default argument is a kind of parameter that takes as input a default value if no value is supplied for the argument when the function is called. Default arguments are demonstrated in the following instance."
   ]
  },
  {
   "cell_type": "code",
   "execution_count": 6,
   "id": "a9ab1548",
   "metadata": {},
   "outputs": [
    {
     "name": "stdout",
     "output_type": "stream",
     "text": [
      "Passing only one argument\n",
      "number 1 is:  30\n",
      "number 2 is:  20\n",
      "Passing two arguments\n",
      "number 1 is:  50\n",
      "number 2 is:  30\n"
     ]
    }
   ],
   "source": [
    "# Python code to demonstrate the use of default arguments    \n",
    "# defining a function    \n",
    "def function( n1, n2 = 20 ):    \n",
    "    print(\"number 1 is: \", n1)    \n",
    "    print(\"number 2 is: \", n2)    \n",
    "     \n",
    "     \n",
    "# Calling the function and passing only one argument    \n",
    "print( \"Passing only one argument\" )    \n",
    "function(30)    \n",
    "    \n",
    "# Now giving two arguments to the function    \n",
    "print( \"Passing two arguments\" )    \n",
    "function(50,30)    "
   ]
  },
  {
   "cell_type": "markdown",
   "id": "ffcb2d9b",
   "metadata": {},
   "source": [
    "Keyword arguments- \n",
    "A function called's arguments are linked to keyword arguments. When invoking a function with keyword arguments, the user may tell whose parameter value it is by looking at the parameter label.\n",
    "\n",
    "We can remove certain arguments or arrange them in a different order since the Python interpreter will connect the provided keywords to link the values with its parameters. "
   ]
  },
  {
   "cell_type": "code",
   "execution_count": 5,
   "id": "4d26001e",
   "metadata": {},
   "outputs": [
    {
     "name": "stdout",
     "output_type": "stream",
     "text": [
      "Without using keyword\n",
      "number 1 is:  50\n",
      "number 2 is:  30\n",
      "With using keyword\n",
      "number 1 is:  30\n",
      "number 2 is:  50\n"
     ]
    }
   ],
   "source": [
    "# Python code to demonstrate the use of keyword arguments    \n",
    "  # Defining a function    \n",
    "def function( n1, n2 ):    \n",
    "    print(\"number 1 is: \", n1)    \n",
    "    print(\"number 2 is: \", n2)    \n",
    "    \n",
    "# Calling function and passing arguments without using keyword    \n",
    "print( \"Without using keyword\" )    \n",
    "function( 50, 30)       \n",
    "        \n",
    "# Calling function and passing arguments using keyword    \n",
    "print( \"With using keyword\" )    \n",
    "function( n2 = 50, n1 = 30)    "
   ]
  },
  {
   "cell_type": "markdown",
   "id": "a7f991d2",
   "metadata": {},
   "source": [
    "Required Arguments-\n",
    "The arguments given to a function while calling in a pre-defined positional sequence are required arguments. The count of required arguments in the method call must be equal to the count of arguments provided while defining the function.\n",
    "\n",
    "We must send two arguments to the function function() in the correct order, or it will return a syntax error, as seen below."
   ]
  },
  {
   "cell_type": "code",
   "execution_count": 7,
   "id": "fc92e077",
   "metadata": {},
   "outputs": [
    {
     "name": "stdout",
     "output_type": "stream",
     "text": [
      "Passing out of order arguments\n",
      "number 1 is:  30\n",
      "number 2 is:  20\n",
      "Passing only one argument\n",
      "Function needs two positional arguments\n"
     ]
    }
   ],
   "source": [
    "# Defining a function    \n",
    "def function( n1, n2 ):    \n",
    "    print(\"number 1 is: \", n1)    \n",
    "    print(\"number 2 is: \", n2)    \n",
    "    \n",
    "# Calling function and passing two arguments out of order, we need num1 to be 20 and num2 to be 30    \n",
    "print( \"Passing out of order arguments\" )    \n",
    "function( 30, 20 )       \n",
    "    \n",
    "# Calling function and passing only one argument    \n",
    "print( \"Passing only one argument\" )    \n",
    "try:    \n",
    "    function( 30 )    \n",
    "except:    \n",
    "    print( \"Function needs two positional arguments\" )  "
   ]
  },
  {
   "cell_type": "markdown",
   "id": "54926066",
   "metadata": {},
   "source": [
    "### return Statement"
   ]
  },
  {
   "cell_type": "markdown",
   "id": "32e66316",
   "metadata": {},
   "source": [
    "The return statement, which is supplied as output when a particular job or function is finished, might take the form of an argument, a statement, or a value. A declared function will return a None object if no return statement is written."
   ]
  },
  {
   "cell_type": "code",
   "execution_count": 8,
   "id": "b0b89655",
   "metadata": {},
   "outputs": [
    {
     "name": "stdout",
     "output_type": "stream",
     "text": [
      "With return statement\n",
      "2704\n",
      "Without return statement\n",
      "None\n"
     ]
    }
   ],
   "source": [
    "# Defining a function with return statement    \n",
    "def square( num ):    \n",
    "    return num**2    \n",
    "     \n",
    "# Calling function and passing arguments.    \n",
    "print( \"With return statement\" )    \n",
    "print( square( 52 ) )    \n",
    "    \n",
    "# Defining a function without return statement     \n",
    "def square( num ):    \n",
    "     num**2     \n",
    "    \n",
    "# Calling function and passing arguments.    \n",
    "print( \"Without return statement\" )    \n",
    "print( square( 52 ) )    "
   ]
  },
  {
   "cell_type": "markdown",
   "id": "49007091",
   "metadata": {},
   "source": [
    "### Python Function within Another Function"
   ]
  },
  {
   "cell_type": "code",
   "execution_count": 9,
   "id": "c32c6fc8",
   "metadata": {},
   "outputs": [
    {
     "name": "stdout",
     "output_type": "stream",
     "text": [
      "Python functions tutorial\n",
      "5\n"
     ]
    }
   ],
   "source": [
    "# defining a nested function    \n",
    "def word():    \n",
    "    string = 'Python functions tutorial'    \n",
    "    x = 5     \n",
    "    def number():    \n",
    "        print( string )   \n",
    "        print( x )  \n",
    "             \n",
    "    number()    \n",
    "word()    "
   ]
  },
  {
   "cell_type": "markdown",
   "id": "efec6ff4",
   "metadata": {},
   "source": [
    "### OOP's in Python"
   ]
  },
  {
   "cell_type": "raw",
   "id": "ee55d9a7",
   "metadata": {},
   "source": [
    "Inheritance\n",
    "Inheritance is the most important aspect of object-oriented programming, which simulates the real-world concept of inheritance. It specifies that the child object acquires all the properties and behaviors of the parent object.\n",
    "\n",
    "By using inheritance, we can create a class which uses all the properties and behavior of another class. The new class is known as a derived class or child class, and the one whose properties are acquired is known as a base class or parent class.\n",
    "\n",
    "It provides the re-usability of the code.\n",
    "\n",
    "Polymorphism\n",
    "Polymorphism contains two words \"poly\" and \"morphs\". Poly means many, and morph means shape. By polymorphism, we understand that one task can be performed in different ways. For example - you have a class animal, and all animals speak. But they speak differently. Here, the \"speak\" behavior is polymorphic in a sense and depends on the animal. So, the abstract \"animal\" concept does not actually \"speak\", but specific animals (like dogs and cats) have a concrete implementation of the action \"speak\".\n",
    "\n",
    "Encapsulation\n",
    "Encapsulation is also an essential aspect of object-oriented programming. It is used to restrict access to methods and variables. In encapsulation, code and data are wrapped together within a single unit from being modified by accident."
   ]
  },
  {
   "cell_type": "code",
   "execution_count": 11,
   "id": "79ed83e2",
   "metadata": {},
   "outputs": [],
   "source": [
    "#Creating Classes in Python\n",
    "class ClassName:    \n",
    "    #statement_suite "
   ]
  },
  {
   "cell_type": "code",
   "execution_count": 12,
   "id": "0305160a",
   "metadata": {},
   "outputs": [],
   "source": [
    "class Employee:    \n",
    "    id = 10   \n",
    "    name = \"Devansh\"    \n",
    "    def display (self):    \n",
    "        print(self.id,self.name)   "
   ]
  },
  {
   "cell_type": "markdown",
   "id": "996ddf42",
   "metadata": {},
   "source": [
    "Here, the self is used as a reference variable, which refers to the current class object. It is always the first argument in the function definition. However, using self is optional in the function call."
   ]
  },
  {
   "cell_type": "markdown",
   "id": "8766bb45",
   "metadata": {},
   "source": [
    "### The self-parameter"
   ]
  },
  {
   "cell_type": "markdown",
   "id": "f27e6af5",
   "metadata": {},
   "source": [
    "The self-parameter refers to the current instance of the class and accesses the class variables."
   ]
  },
  {
   "cell_type": "code",
   "execution_count": 13,
   "id": "b4b137e9",
   "metadata": {},
   "outputs": [],
   "source": [
    "#creating objects\n",
    "<object-name> = <class-name>(<arguments>)    "
   ]
  },
  {
   "cell_type": "code",
   "execution_count": 14,
   "id": "cc62357a",
   "metadata": {},
   "outputs": [
    {
     "name": "stdout",
     "output_type": "stream",
     "text": [
      "ID: 10 \n",
      "Name: John\n"
     ]
    }
   ],
   "source": [
    "class Employee:    \n",
    "    id = 10   \n",
    "    name = \"John\"    \n",
    "    def display (self):    \n",
    "        print(\"ID: %d \\nName: %s\"%(self.id,self.name))    \n",
    "# Creating a emp instance of Employee class  \n",
    "emp = Employee()    \n",
    "emp.display()    "
   ]
  },
  {
   "cell_type": "code",
   "execution_count": 15,
   "id": "1beb6a8b",
   "metadata": {},
   "outputs": [
    {
     "ename": "AttributeError",
     "evalue": "id",
     "output_type": "error",
     "traceback": [
      "\u001b[1;31m---------------------------------------------------------------------------\u001b[0m",
      "\u001b[1;31mAttributeError\u001b[0m                            Traceback (most recent call last)",
      "Input \u001b[1;32mIn [15]\u001b[0m, in \u001b[0;36m<cell line: 12>\u001b[1;34m()\u001b[0m\n\u001b[0;32m      9\u001b[0m emp \u001b[38;5;241m=\u001b[39m Employee()  \n\u001b[0;32m     11\u001b[0m \u001b[38;5;66;03m# Deleting the property of object  \u001b[39;00m\n\u001b[1;32m---> 12\u001b[0m \u001b[38;5;28;01mdel\u001b[39;00m emp\u001b[38;5;241m.\u001b[39mid  \n\u001b[0;32m     13\u001b[0m \u001b[38;5;66;03m# Deleting the object itself  \u001b[39;00m\n\u001b[0;32m     14\u001b[0m \u001b[38;5;28;01mdel\u001b[39;00m emp  \n",
      "\u001b[1;31mAttributeError\u001b[0m: id"
     ]
    }
   ],
   "source": [
    "class Employee:  \n",
    "    id = 10  \n",
    "    name = \"John\"  \n",
    "  \n",
    "    def display(self):  \n",
    "        print(\"ID: %d \\nName: %s\" % (self.id, self.name))  \n",
    "    # Creating a emp instance of Employee class  \n",
    "  \n",
    "emp = Employee()  \n",
    "  \n",
    "# Deleting the property of object  \n",
    "del emp.id  \n",
    "# Deleting the object itself  \n",
    "del emp  \n",
    "emp.display()  "
   ]
  },
  {
   "cell_type": "markdown",
   "id": "f18b5612",
   "metadata": {},
   "source": [
    "### Constructors"
   ]
  },
  {
   "cell_type": "markdown",
   "id": "d28a8b3d",
   "metadata": {},
   "source": [
    "A constructor is a special type of method (function) which is used to initialize the instance members of the class.\n",
    "\n",
    "In C++ or Java, the constructor has the same name as its class, but it treats constructor differently in Python. It is used to create an object.\n",
    "\n",
    "Constructors can be of two types.\n",
    "\n",
    "Parameterized Constructor\n",
    "Non-parameterized Constructor\n",
    "Constructor definition is executed when we create the object of this class. Constructors also verify that there are enough resources for the object to perform any start-up task."
   ]
  },
  {
   "cell_type": "markdown",
   "id": "5973ff86",
   "metadata": {},
   "source": [
    "In Python, the method the __init__() simulates the constructor of the class. This method is called when the class is instantiated. It accepts the self-keyword as a first argument which allows accessing the attributes or method of the class.\n",
    "\n",
    "We can pass any number of arguments at the time of creating the class object, depending upon the __init__() definition. It is mostly used to initialize the class attributes. Every class must have a constructor, even if it simply relies on the default constructor."
   ]
  },
  {
   "cell_type": "code",
   "execution_count": 16,
   "id": "3d1a15d5",
   "metadata": {},
   "outputs": [
    {
     "name": "stdout",
     "output_type": "stream",
     "text": [
      "ID: 101 \n",
      "Name: John\n",
      "ID: 102 \n",
      "Name: David\n"
     ]
    }
   ],
   "source": [
    "class Employee:  \n",
    "    def __init__(self, name, id):  \n",
    "        self.id = id  \n",
    "        self.name = name  \n",
    "  \n",
    "    def display(self):  \n",
    "        print(\"ID: %d \\nName: %s\" % (self.id, self.name))  \n",
    "  \n",
    "  \n",
    "emp1 = Employee(\"John\", 101)  \n",
    "emp2 = Employee(\"David\", 102)  \n",
    "  \n",
    "# accessing display() method to print employee 1 information  \n",
    "  \n",
    "emp1.display()  \n",
    "  \n",
    "# accessing display() method to print employee 2 information  \n",
    "emp2.display()  "
   ]
  },
  {
   "cell_type": "markdown",
   "id": "a490c456",
   "metadata": {},
   "source": [
    "### Non-Parameterized Constructor"
   ]
  },
  {
   "cell_type": "markdown",
   "id": "3c9dc62e",
   "metadata": {},
   "source": [
    "The non-parameterized constructor uses when we do not want to manipulate the value or the constructor that has only self as an argument."
   ]
  },
  {
   "cell_type": "code",
   "execution_count": 17,
   "id": "1fb9eee3",
   "metadata": {},
   "outputs": [
    {
     "name": "stdout",
     "output_type": "stream",
     "text": [
      "This is non parametrized constructor\n",
      "Hello John\n"
     ]
    }
   ],
   "source": [
    "class Student:  \n",
    "    # Constructor - non parameterized  \n",
    "    def __init__(self):  \n",
    "        print(\"This is non parametrized constructor\")  \n",
    "    def show(self,name):  \n",
    "        print(\"Hello\",name)  \n",
    "student = Student()  \n",
    "student.show(\"John\")      "
   ]
  },
  {
   "cell_type": "code",
   "execution_count": 18,
   "id": "5f3504df",
   "metadata": {},
   "outputs": [
    {
     "name": "stdout",
     "output_type": "stream",
     "text": [
      "This is parametrized constructor\n",
      "Hello John\n"
     ]
    }
   ],
   "source": [
    "class Student:  \n",
    "    # Constructor - parameterized  \n",
    "    def __init__(self, name):  \n",
    "        print(\"This is parametrized constructor\")  \n",
    "        self.name = name  \n",
    "    def show(self):  \n",
    "        print(\"Hello\",self.name)  \n",
    "student = Student(\"John\")  \n",
    "student.show()    "
   ]
  },
  {
   "cell_type": "markdown",
   "id": "f9bba10e",
   "metadata": {},
   "source": [
    "### Python Default Constructor"
   ]
  },
  {
   "cell_type": "markdown",
   "id": "47c2b027",
   "metadata": {},
   "source": [
    "When we do not include the constructor in the class or forget to declare it, then that becomes the default constructor. It does not perform any task but initializes the objects."
   ]
  },
  {
   "cell_type": "code",
   "execution_count": 19,
   "id": "95cf8e83",
   "metadata": {},
   "outputs": [
    {
     "name": "stdout",
     "output_type": "stream",
     "text": [
      "101 Joseph\n"
     ]
    }
   ],
   "source": [
    "class Student:  \n",
    "    roll_num = 101  \n",
    "    name = \"Joseph\"  \n",
    "  \n",
    "    def display(self):  \n",
    "        print(self.roll_num,self.name)  \n",
    "  \n",
    "st = Student()  \n",
    "st.display()  "
   ]
  },
  {
   "cell_type": "markdown",
   "id": "033c89e3",
   "metadata": {},
   "source": [
    "### Inheritance"
   ]
  },
  {
   "cell_type": "markdown",
   "id": "40c19bbd",
   "metadata": {},
   "source": [
    "Inheritance is an important aspect of the object-oriented paradigm. Inheritance provides code reusability to the program because we can use an existing class to create a new class instead of creating it from scratch.\n",
    "\n",
    "In inheritance, the child class acquires the properties and can access all the data members and functions defined in the parent class. A child class can also provide its specific implementation to the functions of the parent class. In this section of the tutorial, we will discuss inheritance in detail.\n",
    "\n",
    "In python, a derived class can inherit base class by just mentioning the base in the bracket after the derived class name. Consider the following syntax to inherit a base class into the derived class."
   ]
  },
  {
   "cell_type": "code",
   "execution_count": null,
   "id": "f01190df",
   "metadata": {},
   "outputs": [],
   "source": []
  },
  {
   "cell_type": "code",
   "execution_count": null,
   "id": "6c5795e9",
   "metadata": {},
   "outputs": [],
   "source": []
  },
  {
   "cell_type": "markdown",
   "id": "e3839734",
   "metadata": {},
   "source": [
    "### Opening a file"
   ]
  },
  {
   "cell_type": "markdown",
   "id": "0787314e",
   "metadata": {},
   "source": [
    "Python provides an open() function that accepts two arguments, file name and access mode in which the file is accessed. The function returns a file object which can be used to perform various operations like reading, writing, etc."
   ]
  },
  {
   "cell_type": "raw",
   "id": "0a379ca1",
   "metadata": {},
   "source": [
    "#syntax\n",
    "file object = open(<file-name>, <access-mode>, <buffering>)     "
   ]
  },
  {
   "cell_type": "code",
   "execution_count": 10,
   "id": "3b4ec19b",
   "metadata": {},
   "outputs": [
    {
     "ename": "FileNotFoundError",
     "evalue": "[Errno 2] No such file or directory: 'file.txt'",
     "output_type": "error",
     "traceback": [
      "\u001b[1;31m---------------------------------------------------------------------------\u001b[0m",
      "\u001b[1;31mFileNotFoundError\u001b[0m                         Traceback (most recent call last)",
      "Input \u001b[1;32mIn [10]\u001b[0m, in \u001b[0;36m<cell line: 1>\u001b[1;34m()\u001b[0m\n\u001b[1;32m----> 1\u001b[0m fileptr \u001b[38;5;241m=\u001b[39m \u001b[38;5;28;43mopen\u001b[39;49m\u001b[43m(\u001b[49m\u001b[38;5;124;43m\"\u001b[39;49m\u001b[38;5;124;43mfile.txt\u001b[39;49m\u001b[38;5;124;43m\"\u001b[39;49m\u001b[43m,\u001b[49m\u001b[38;5;124;43m\"\u001b[39;49m\u001b[38;5;124;43mr\u001b[39;49m\u001b[38;5;124;43m\"\u001b[39;49m\u001b[43m)\u001b[49m    \n\u001b[0;32m      3\u001b[0m \u001b[38;5;28;01mif\u001b[39;00m fileptr:    \n\u001b[0;32m      4\u001b[0m     \u001b[38;5;28mprint\u001b[39m(\u001b[38;5;124m\"\u001b[39m\u001b[38;5;124mfile is opened successfully\u001b[39m\u001b[38;5;124m\"\u001b[39m)\n",
      "\u001b[1;31mFileNotFoundError\u001b[0m: [Errno 2] No such file or directory: 'file.txt'"
     ]
    }
   ],
   "source": [
    "fileptr = open(\"file.txt\",\"r\")    \n",
    "    \n",
    "if fileptr:    \n",
    "    print(\"file is opened successfully\")   "
   ]
  },
  {
   "cell_type": "markdown",
   "id": "9ac257c7",
   "metadata": {},
   "source": [
    "In the above code, we have passed filename as a first argument and opened file in read mode as we mentioned r as the second argument. The fileptr holds the file object and if the file is opened successfully, it will execute the print statement"
   ]
  },
  {
   "cell_type": "markdown",
   "id": "dd3bb70f",
   "metadata": {},
   "source": [
    "### The close() method"
   ]
  },
  {
   "cell_type": "markdown",
   "id": "23a776e3",
   "metadata": {},
   "source": [
    "Once all the operations are done on the file, we must close it through our Python script using the close() method. Any unwritten information gets destroyed once the close() method is called on a file object.\n",
    "\n",
    "We can perform any operation on the file externally using the file system which is the currently opened in Python; hence it is good practice to close the file once all the operations are done.\n",
    "\n",
    "The syntax to use the close() method is given below."
   ]
  },
  {
   "cell_type": "raw",
   "id": "04d9baf6",
   "metadata": {},
   "source": [
    "#syntax\n",
    "fileobject.close()   "
   ]
  },
  {
   "cell_type": "code",
   "execution_count": null,
   "id": "40f11f7a",
   "metadata": {},
   "outputs": [],
   "source": [
    "# opens the file file.txt in read mode    \n",
    "fileptr = open(\"file.txt\",\"r\")    \n",
    "    \n",
    "if fileptr:    \n",
    "    print(\"file is opened successfully\")    \n",
    "    \n",
    "#closes the opened file    \n",
    "fileptr.close()  "
   ]
  }
 ],
 "metadata": {
  "kernelspec": {
   "display_name": "Python 3 (ipykernel)",
   "language": "python",
   "name": "python3"
  },
  "language_info": {
   "codemirror_mode": {
    "name": "ipython",
    "version": 3
   },
   "file_extension": ".py",
   "mimetype": "text/x-python",
   "name": "python",
   "nbconvert_exporter": "python",
   "pygments_lexer": "ipython3",
   "version": "3.9.12"
  }
 },
 "nbformat": 4,
 "nbformat_minor": 5
}
