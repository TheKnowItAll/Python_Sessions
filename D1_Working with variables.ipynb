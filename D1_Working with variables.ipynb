{
 "cells": [
  {
   "cell_type": "markdown",
   "id": "74f56d9c",
   "metadata": {},
   "source": [
    "# WORKING WITH VARIABLES TO MANAGE DATA IN PYTHON"
   ]
  },
  {
   "cell_type": "code",
   "execution_count": 1,
   "id": "ccf4c344",
   "metadata": {},
   "outputs": [
    {
     "name": "stdout",
     "output_type": "stream",
     "text": [
      "Hello World\n"
     ]
    }
   ],
   "source": [
    "# Python code for \"Hello World\"\n",
    "# nothing else to type...see how simple is the syntax.\n",
    "print(\"Hello World\") "
   ]
  },
  {
   "cell_type": "markdown",
   "id": "c59b6a2b",
   "metadata": {},
   "source": [
    "### Python Comments"
   ]
  },
  {
   "cell_type": "markdown",
   "id": "09745009",
   "metadata": {},
   "source": [
    "Comments starts with a #, and Python will ignore them:"
   ]
  },
  {
   "cell_type": "code",
   "execution_count": 2,
   "id": "099ebf94",
   "metadata": {},
   "outputs": [
    {
     "name": "stdout",
     "output_type": "stream",
     "text": [
      "Hello, World!\n"
     ]
    }
   ],
   "source": [
    "print(\"Hello, World!\") #This is a comment"
   ]
  },
  {
   "cell_type": "markdown",
   "id": "64df5310",
   "metadata": {},
   "source": [
    "Python does not really have a syntax for multi line comments.\n",
    "\n",
    "To add a multiline comment you could insert a # for each line"
   ]
  },
  {
   "cell_type": "code",
   "execution_count": 3,
   "id": "d2cc6dda",
   "metadata": {},
   "outputs": [
    {
     "name": "stdout",
     "output_type": "stream",
     "text": [
      "Hello, World!\n"
     ]
    }
   ],
   "source": [
    "#This is a comment\n",
    "#written in\n",
    "#more than just one line\n",
    "print(\"Hello, World!\")"
   ]
  },
  {
   "cell_type": "markdown",
   "id": "25858314",
   "metadata": {},
   "source": [
    "Or, not quite as intended, you can use a multiline string.\n",
    "\n",
    "Since Python will ignore string literals that are not assigned to a variable, you can add a multiline string (triple quotes) in your code, and place your comment inside it:"
   ]
  },
  {
   "cell_type": "code",
   "execution_count": 4,
   "id": "1b10e832",
   "metadata": {},
   "outputs": [
    {
     "name": "stdout",
     "output_type": "stream",
     "text": [
      "Hello, World!\n"
     ]
    }
   ],
   "source": [
    "\"\"\"\n",
    "This is a comment\n",
    "written in\n",
    "more than just one line\n",
    "\"\"\"\n",
    "print(\"Hello, World!\")"
   ]
  },
  {
   "cell_type": "markdown",
   "id": "6b45f32d",
   "metadata": {},
   "source": [
    "As long as the string is not assigned to a variable, Python will read the code, but then ignore it, and you have made a multiline comment."
   ]
  },
  {
   "cell_type": "markdown",
   "id": "a1efd816",
   "metadata": {},
   "source": [
    "### Python Variables"
   ]
  },
  {
   "cell_type": "markdown",
   "id": "d9148fe3",
   "metadata": {},
   "source": [
    "Variables are containers for storing data values.\n",
    "\n",
    "Python has no command for declaring a variable.\n",
    "\n",
    "A variable is created the moment you first assign a value to it."
   ]
  },
  {
   "cell_type": "markdown",
   "id": "482fcbc1",
   "metadata": {},
   "source": [
    "Variables do not need to be declared with any particular type, and can even change type after they have been set."
   ]
  },
  {
   "cell_type": "code",
   "execution_count": 5,
   "id": "b00625cd",
   "metadata": {},
   "outputs": [
    {
     "name": "stdout",
     "output_type": "stream",
     "text": [
      "5\n",
      "John\n"
     ]
    }
   ],
   "source": [
    "x = 5 # x is of type int\n",
    "y = \"John\" # y is of type str\n",
    "print(x)\n",
    "print(y)"
   ]
  },
  {
   "cell_type": "markdown",
   "id": "52d42566",
   "metadata": {},
   "source": [
    "### Python Typecasting"
   ]
  },
  {
   "cell_type": "markdown",
   "id": "4e9c7540",
   "metadata": {},
   "source": [
    "If you want to specify the data type of a variable, this can be done with casting"
   ]
  },
  {
   "cell_type": "code",
   "execution_count": 7,
   "id": "ce48f596",
   "metadata": {},
   "outputs": [
    {
     "name": "stdout",
     "output_type": "stream",
     "text": [
      "3\n",
      "3\n",
      "3.0\n",
      "<class 'str'>\n",
      "<class 'int'>\n",
      "<class 'float'>\n"
     ]
    }
   ],
   "source": [
    "x = str(3)    # x will be '3'\n",
    "y = int(3)    # y will be 3\n",
    "z = float(3)  # z will be 3.0\n",
    "print(x)\n",
    "print(y)\n",
    "print(z)\n",
    "print(type(x))\n",
    "print(type(y))\n",
    "print(type(z))"
   ]
  },
  {
   "cell_type": "markdown",
   "id": "668d152a",
   "metadata": {},
   "source": [
    "String variables can be declared either by using single or double quotes:"
   ]
  },
  {
   "cell_type": "code",
   "execution_count": 8,
   "id": "7191a297",
   "metadata": {},
   "outputs": [],
   "source": [
    "x = \"John\"\n",
    "# is the same as\n",
    "x = 'John'"
   ]
  },
  {
   "cell_type": "markdown",
   "id": "190e0b07",
   "metadata": {},
   "source": [
    "##### Variable Names"
   ]
  },
  {
   "cell_type": "raw",
   "id": "89014a8a",
   "metadata": {},
   "source": [
    "A variable can have a short name (like x and y) or a more descriptive name (age, carname, total_volume). Rules for Python variables:\n",
    "A variable name must start with a letter or the underscore character\n",
    "A variable name cannot start with a number\n",
    "A variable name can only contain alpha-numeric characters and underscores (A-z, 0-9, and _ )\n",
    "Variable names are case-sensitive (age, Age and AGE are three different variables)"
   ]
  },
  {
   "cell_type": "code",
   "execution_count": 9,
   "id": "39bed626",
   "metadata": {},
   "outputs": [],
   "source": [
    "myvar = \"John\"\n",
    "my_var = \"John\"\n",
    "_my_var = \"John\"\n",
    "myVar = \"John\"\n",
    "MYVAR = \"John\"\n",
    "myvar2 = \"John\""
   ]
  },
  {
   "cell_type": "markdown",
   "id": "4d5b3df2",
   "metadata": {},
   "source": [
    "Remember that variable names are case-sensitive"
   ]
  },
  {
   "cell_type": "markdown",
   "id": "57e96c19",
   "metadata": {},
   "source": [
    "##### Multi Words Variable Names"
   ]
  },
  {
   "cell_type": "markdown",
   "id": "b47c903c",
   "metadata": {},
   "source": [
    "###### Camel Case"
   ]
  },
  {
   "cell_type": "code",
   "execution_count": 10,
   "id": "c151b637",
   "metadata": {},
   "outputs": [],
   "source": [
    "myVariableName = \"John\" #Each word, except the first, starts with a capital letter"
   ]
  },
  {
   "cell_type": "markdown",
   "id": "99d3c354",
   "metadata": {},
   "source": [
    "###### Pascal Case"
   ]
  },
  {
   "cell_type": "code",
   "execution_count": 11,
   "id": "46e06a00",
   "metadata": {},
   "outputs": [],
   "source": [
    "MyVariableName = \"John\" #Each word starts with a capital letter"
   ]
  },
  {
   "cell_type": "markdown",
   "id": "78f7c0b2",
   "metadata": {},
   "source": [
    "###### Snake Case"
   ]
  },
  {
   "cell_type": "code",
   "execution_count": 12,
   "id": "c82eb0ac",
   "metadata": {},
   "outputs": [],
   "source": [
    "my_variable_name = \"John\"  #Each word is separated by an underscore character"
   ]
  },
  {
   "cell_type": "markdown",
   "id": "cac7a082",
   "metadata": {},
   "source": [
    "##### Many Values to Multiple Variables"
   ]
  },
  {
   "cell_type": "markdown",
   "id": "7db8e66f",
   "metadata": {},
   "source": [
    "Python allows you to assign values to multiple variables in one line"
   ]
  },
  {
   "cell_type": "code",
   "execution_count": 13,
   "id": "21d3d4ea",
   "metadata": {},
   "outputs": [
    {
     "name": "stdout",
     "output_type": "stream",
     "text": [
      "Orange\n",
      "Banana\n",
      "Cherry\n"
     ]
    }
   ],
   "source": [
    "x, y, z = \"Orange\", \"Banana\", \"Cherry\"\n",
    "print(x)\n",
    "print(y)\n",
    "print(z)"
   ]
  },
  {
   "cell_type": "markdown",
   "id": "87106bfc",
   "metadata": {},
   "source": [
    "##### One Value to Multiple Variables"
   ]
  },
  {
   "cell_type": "markdown",
   "id": "6df2e2eb",
   "metadata": {},
   "source": [
    "you can assign the same value to multiple variables in one line"
   ]
  },
  {
   "cell_type": "code",
   "execution_count": 14,
   "id": "1af23a52",
   "metadata": {},
   "outputs": [
    {
     "name": "stdout",
     "output_type": "stream",
     "text": [
      "Orange\n",
      "Orange\n",
      "Orange\n"
     ]
    }
   ],
   "source": [
    "x = y = z = \"Orange\"\n",
    "print(x)\n",
    "print(y)\n",
    "print(z)"
   ]
  },
  {
   "cell_type": "markdown",
   "id": "021ab5de",
   "metadata": {},
   "source": [
    "###### The Python print() function is often used to output variables"
   ]
  },
  {
   "cell_type": "code",
   "execution_count": 15,
   "id": "201c95a6",
   "metadata": {},
   "outputs": [
    {
     "name": "stdout",
     "output_type": "stream",
     "text": [
      "Python is awesome\n"
     ]
    }
   ],
   "source": [
    "x = \"Python is awesome\"\n",
    "print(x)"
   ]
  },
  {
   "cell_type": "markdown",
   "id": "9aab974f",
   "metadata": {},
   "source": [
    "###### In the print() function, you output multiple variables, separated by a comma"
   ]
  },
  {
   "cell_type": "code",
   "execution_count": 16,
   "id": "222c9c89",
   "metadata": {},
   "outputs": [
    {
     "name": "stdout",
     "output_type": "stream",
     "text": [
      "Python is awesome\n"
     ]
    }
   ],
   "source": [
    "x = \"Python\"\n",
    "y = \"is\"\n",
    "z = \"awesome\"\n",
    "print(x, y, z)"
   ]
  },
  {
   "cell_type": "markdown",
   "id": "c5a8eba8",
   "metadata": {},
   "source": [
    "###### You can also use the + operator to output multiple variables"
   ]
  },
  {
   "cell_type": "code",
   "execution_count": 17,
   "id": "6d23387d",
   "metadata": {},
   "outputs": [
    {
     "name": "stdout",
     "output_type": "stream",
     "text": [
      "Python is awesome\n"
     ]
    }
   ],
   "source": [
    "x = \"Python \"\n",
    "y = \"is \"\n",
    "z = \"awesome\"\n",
    "print(x + y + z)"
   ]
  },
  {
   "cell_type": "markdown",
   "id": "b0cf5841",
   "metadata": {},
   "source": [
    "###### For numbers, the + character works as a mathematical operator"
   ]
  },
  {
   "cell_type": "code",
   "execution_count": 18,
   "id": "cb242a73",
   "metadata": {},
   "outputs": [
    {
     "name": "stdout",
     "output_type": "stream",
     "text": [
      "15\n"
     ]
    }
   ],
   "source": [
    "x = 5\n",
    "y = 10\n",
    "print(x + y)"
   ]
  },
  {
   "cell_type": "markdown",
   "id": "a1cac8b0",
   "metadata": {},
   "source": [
    "The best way to output multiple variables in the print() function is to separate them with commas, which even support different data types"
   ]
  },
  {
   "cell_type": "markdown",
   "id": "ac11ed41",
   "metadata": {},
   "source": [
    "##### Global Variables"
   ]
  },
  {
   "cell_type": "markdown",
   "id": "2aa449fe",
   "metadata": {},
   "source": [
    "Variables that are created outside of a function (as in all of the examples above) are known as global variables.\n",
    "\n",
    "Global variables can be used by everyone, both inside of functions and outside."
   ]
  },
  {
   "cell_type": "code",
   "execution_count": 19,
   "id": "5505d4b5",
   "metadata": {},
   "outputs": [
    {
     "name": "stdout",
     "output_type": "stream",
     "text": [
      "Python is awesome\n"
     ]
    }
   ],
   "source": [
    "x = \"awesome\"\n",
    "\n",
    "def myfunc():\n",
    "  print(\"Python is \" + x)\n",
    "\n",
    "myfunc()"
   ]
  },
  {
   "cell_type": "markdown",
   "id": "172db2a8",
   "metadata": {},
   "source": [
    "If you create a variable with the same name inside a function, this variable will be local, and can only be used inside the function. The global variable with the same name will remain as it was, global and with the original value"
   ]
  },
  {
   "cell_type": "code",
   "execution_count": 20,
   "id": "6a79e5d1",
   "metadata": {},
   "outputs": [
    {
     "name": "stdout",
     "output_type": "stream",
     "text": [
      "Python is fantastic\n",
      "Python is awesome\n"
     ]
    }
   ],
   "source": [
    "x = \"awesome\"\n",
    "\n",
    "def myfunc():\n",
    "  x = \"fantastic\"\n",
    "  print(\"Python is \" + x)\n",
    "\n",
    "myfunc()\n",
    "\n",
    "print(\"Python is \" + x)"
   ]
  },
  {
   "cell_type": "markdown",
   "id": "52205d6a",
   "metadata": {},
   "source": [
    "##### The global Keyword"
   ]
  },
  {
   "cell_type": "markdown",
   "id": "c5aa235d",
   "metadata": {},
   "source": [
    "Normally, when you create a variable inside a function, that variable is local, and can only be used inside that function.\n",
    "\n",
    "To create a global variable inside a function, you can use the global keyword."
   ]
  },
  {
   "cell_type": "code",
   "execution_count": 21,
   "id": "558957a7",
   "metadata": {},
   "outputs": [
    {
     "name": "stdout",
     "output_type": "stream",
     "text": [
      "Python is fantastic\n"
     ]
    }
   ],
   "source": [
    "def myfunc():\n",
    "  global x\n",
    "  x = \"fantastic\"\n",
    "\n",
    "myfunc()\n",
    "\n",
    "print(\"Python is \" + x)"
   ]
  },
  {
   "cell_type": "markdown",
   "id": "d256ae3b",
   "metadata": {},
   "source": [
    "Also, use the global keyword if you want to change a global variable inside a function."
   ]
  },
  {
   "cell_type": "code",
   "execution_count": 22,
   "id": "fbf7c419",
   "metadata": {},
   "outputs": [
    {
     "name": "stdout",
     "output_type": "stream",
     "text": [
      "Python is fantastic\n"
     ]
    }
   ],
   "source": [
    "x = \"awesome\"\n",
    "\n",
    "def myfunc():\n",
    "  global x\n",
    "  x = \"fantastic\"\n",
    "\n",
    "myfunc()\n",
    "\n",
    "print(\"Python is \" + x)"
   ]
  },
  {
   "cell_type": "markdown",
   "id": "4fda0fda",
   "metadata": {},
   "source": [
    "##### Input Function"
   ]
  },
  {
   "cell_type": "markdown",
   "id": "f6c77d5b",
   "metadata": {},
   "source": [
    "Write a program that prints the number of characters in a user's name. You might need to Google for a function that calculates the length of a string."
   ]
  },
  {
   "cell_type": "code",
   "execution_count": 1,
   "id": "69ab5203",
   "metadata": {},
   "outputs": [
    {
     "name": "stdout",
     "output_type": "stream",
     "text": [
      "What is your name?Asif\n",
      "4\n"
     ]
    }
   ],
   "source": [
    "str=input(\"What is your name?\")\n",
    "print(len(str))"
   ]
  },
  {
   "cell_type": "markdown",
   "id": "5599a478",
   "metadata": {},
   "source": [
    "##### Debugging Exercise"
   ]
  },
  {
   "cell_type": "markdown",
   "id": "549ee72c",
   "metadata": {},
   "source": [
    "When you run your program, it should print the following:"
   ]
  },
  {
   "cell_type": "raw",
   "id": "e27279a1",
   "metadata": {},
   "source": [
    "Day 1 - String Manipulation\n",
    "String Concatenation is done with the \"+\" sign.\n",
    "e.g. print(\"Hello \" + \"world\")\n",
    "New lines can be created with a backslash and n."
   ]
  },
  {
   "cell_type": "code",
   "execution_count": null,
   "id": "0200095e",
   "metadata": {},
   "outputs": [],
   "source": [
    "#Fix the code below 👇\n",
    "\n",
    "print(\"Day 1 - String Manipulation)\n",
    "print('String Concatenation is done with the '+' sign.')\n",
    "print('e.g. print(Hello + world)')\n",
    "print(\"New lines can be created with a backslash and n.\")"
   ]
  },
  {
   "cell_type": "markdown",
   "id": "f41f24fe",
   "metadata": {},
   "source": [
    "##### Printing"
   ]
  },
  {
   "cell_type": "markdown",
   "id": "43c8004f",
   "metadata": {},
   "source": [
    "Write a program in main.py that prints the same notes from the previous lesson using what you have learnt about the Python print function."
   ]
  },
  {
   "cell_type": "markdown",
   "id": "789679ea",
   "metadata": {},
   "source": [
    "After you have written your code, you should run your program and it should print the following:"
   ]
  },
  {
   "cell_type": "raw",
   "id": "8c60bfed",
   "metadata": {},
   "source": [
    "Day 1 - Python Print Function\n",
    "The function is declared like this:\n",
    "print('what to print')"
   ]
  },
  {
   "cell_type": "markdown",
   "id": "482912a7",
   "metadata": {},
   "source": [
    "##### Variables"
   ]
  },
  {
   "cell_type": "markdown",
   "id": "c92d9eba",
   "metadata": {},
   "source": [
    "Write a program that switches the values stored in the variables a and b."
   ]
  },
  {
   "cell_type": "code",
   "execution_count": 3,
   "id": "56058811",
   "metadata": {},
   "outputs": [
    {
     "name": "stdout",
     "output_type": "stream",
     "text": [
      "a: 5\n",
      "b: 6\n",
      "Values after swapping are:\n",
      "a: 6\n",
      "b: 5\n"
     ]
    }
   ],
   "source": [
    "# 🚨 Don't change the code below 👇\n",
    "a = input(\"a: \")\n",
    "b = input(\"b: \")\n",
    "# 🚨 Don't change the code above 👆\n",
    "\n",
    "####################################\n",
    "#Write your code below this line 👇\n",
    "c=0\n",
    "c=a #c=5\n",
    "a=b #a=6\n",
    "b=c #b=5\n",
    "\n",
    "\n",
    "#Write your code above this line 👆\n",
    "####################################\n",
    "print(\"Values after swapping are:\")\n",
    "# 🚨 Don't change the code below 👇\n",
    "print(\"a: \" + a)\n",
    "print(\"b: \" + b)\n"
   ]
  },
  {
   "cell_type": "code",
   "execution_count": 1,
   "id": "769b622c",
   "metadata": {},
   "outputs": [
    {
     "ename": "SyntaxError",
     "evalue": "invalid syntax (3583694692.py, line 2)",
     "output_type": "error",
     "traceback": [
      "\u001b[1;36m  Input \u001b[1;32mIn [1]\u001b[1;36m\u001b[0m\n\u001b[1;33m    is\u001b[0m\n\u001b[1;37m    ^\u001b[0m\n\u001b[1;31mSyntaxError\u001b[0m\u001b[1;31m:\u001b[0m invalid syntax\n"
     ]
    }
   ],
   "source": [
    "/*this\n",
    "is \n",
    "comment*/"
   ]
  },
  {
   "cell_type": "code",
   "execution_count": null,
   "id": "fb5e4c16",
   "metadata": {},
   "outputs": [],
   "source": []
  }
 ],
 "metadata": {
  "kernelspec": {
   "display_name": "Python 3 (ipykernel)",
   "language": "python",
   "name": "python3"
  },
  "language_info": {
   "codemirror_mode": {
    "name": "ipython",
    "version": 3
   },
   "file_extension": ".py",
   "mimetype": "text/x-python",
   "name": "python",
   "nbconvert_exporter": "python",
   "pygments_lexer": "ipython3",
   "version": "3.9.12"
  }
 },
 "nbformat": 4,
 "nbformat_minor": 5
}
