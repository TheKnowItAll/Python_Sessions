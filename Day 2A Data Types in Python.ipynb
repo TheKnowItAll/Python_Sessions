{
 "cells": [
  {
   "cell_type": "markdown",
   "id": "4b41580c",
   "metadata": {},
   "source": [
    "# Data Types in Python"
   ]
  },
  {
   "cell_type": "markdown",
   "id": "d01821ac",
   "metadata": {},
   "source": [
    "Variables can store data of different types, and different types can do different things."
   ]
  },
  {
   "cell_type": "markdown",
   "id": "9e476ec7",
   "metadata": {},
   "source": [
    "Python supports several built-in data types to represent and manipulate different kinds of data. "
   ]
  },
  {
   "cell_type": "markdown",
   "id": "e1ec11ad",
   "metadata": {},
   "source": [
    "Here are some of the most common data types in Python:"
   ]
  },
  {
   "cell_type": "markdown",
   "id": "8792ec3a",
   "metadata": {},
   "source": [
    "#### Numeric Types:"
   ]
  },
  {
   "cell_type": "raw",
   "id": "96d2f1b2",
   "metadata": {},
   "source": [
    "int: Integers, e.g., 5, -10, 1000.\n",
    "float: Floating-point numbers, e.g., 3.14, -0.5, 2.0.\n",
    "complex: Complex numbers, e.g., 3 + 2j."
   ]
  },
  {
   "cell_type": "markdown",
   "id": "9857fef2",
   "metadata": {},
   "source": [
    "#### Text Type:"
   ]
  },
  {
   "cell_type": "raw",
   "id": "67f58453",
   "metadata": {},
   "source": [
    "str: Strings, which represent text, e.g., \"Hello, World!\", 'Python'."
   ]
  },
  {
   "cell_type": "markdown",
   "id": "7ba1520e",
   "metadata": {},
   "source": [
    "#### Boolean Type:"
   ]
  },
  {
   "cell_type": "raw",
   "id": "89b77a97",
   "metadata": {},
   "source": [
    "bool: Booleans, which represent either True or False"
   ]
  },
  {
   "cell_type": "markdown",
   "id": "f52c4c5a",
   "metadata": {},
   "source": [
    "#### Sequence Types:"
   ]
  },
  {
   "cell_type": "raw",
   "id": "ea4e40ea",
   "metadata": {},
   "source": [
    "list: Lists, which are ordered, mutable collections of values, e.g., [1, 2, 3], [\"apple\", \"banana\", \"cherry\"].\n",
    "tuple: Tuples, which are ordered and immutable, e.g., (1, 2, 3), (\"red\", \"green\", \"blue\").\n",
    "range: Ranges, which represent sequences of numbers, e.g., range(5) generates 0, 1, 2, 3, 4."
   ]
  },
  {
   "cell_type": "markdown",
   "id": "311a3ae3",
   "metadata": {},
   "source": [
    "###### List"
   ]
  },
  {
   "cell_type": "markdown",
   "id": "fc1aeec5",
   "metadata": {},
   "source": [
    "Lists are mutable, meaning you can change their contents (add, remove, or modify elements) after creation."
   ]
  },
  {
   "cell_type": "markdown",
   "id": "60947a8d",
   "metadata": {},
   "source": [
    "Lists are created using square brackets [] or the list() constructor."
   ]
  },
  {
   "cell_type": "markdown",
   "id": "de5213e3",
   "metadata": {},
   "source": [
    "Lists are commonly used when you need a collection of elements that can be modified. They are suitable for situations where you need to add, remove, or change elements frequently."
   ]
  },
  {
   "cell_type": "markdown",
   "id": "dd769ef2",
   "metadata": {},
   "source": [
    "Elements in a list are accessed using indices, e.g., my_list[0] to access the first element."
   ]
  },
  {
   "cell_type": "markdown",
   "id": "958a0814",
   "metadata": {},
   "source": [
    "Lists consume more memory than tuples because of their mutability."
   ]
  },
  {
   "cell_type": "raw",
   "id": "3513fe0a",
   "metadata": {},
   "source": [
    "List (list): [1, 2, 3]"
   ]
  },
  {
   "cell_type": "markdown",
   "id": "3a2364bc",
   "metadata": {},
   "source": [
    "###### Tuples"
   ]
  },
  {
   "cell_type": "markdown",
   "id": "1972aa7f",
   "metadata": {},
   "source": [
    "Tuples are immutable, which means once you create a tuple, you cannot change its elements."
   ]
  },
  {
   "cell_type": "markdown",
   "id": "fa1036e4",
   "metadata": {},
   "source": [
    "Tuples are created using parentheses () or the tuple() constructor. Often, parentheses are used to create tuples, but if you want to create a tuple with a single element, you need a trailing comma, e.g., (1,)."
   ]
  },
  {
   "cell_type": "markdown",
   "id": "0cfb23ea",
   "metadata": {},
   "source": [
    "Tuples are used when you want an ordered collection of elements that should not be modified. They are often used for representing fixed sequences of values."
   ]
  },
  {
   "cell_type": "markdown",
   "id": "046464ab",
   "metadata": {},
   "source": [
    "Like lists, elements in a tuple are accessed using indices, e.g., my_tuple[0]."
   ]
  },
  {
   "cell_type": "markdown",
   "id": "a4cddee9",
   "metadata": {},
   "source": [
    "Tuples are more memory-efficient than lists because they are immutable, and their size is fixed."
   ]
  },
  {
   "cell_type": "raw",
   "id": "d69ac6c2",
   "metadata": {},
   "source": [
    "Tuple (tuple): (1, 2, 3)"
   ]
  },
  {
   "cell_type": "markdown",
   "id": "879ae0bc",
   "metadata": {},
   "source": [
    "###### Range"
   ]
  },
  {
   "cell_type": "markdown",
   "id": "1233cbd7",
   "metadata": {},
   "source": [
    "Ranges are immutable. You cannot modify the elements of a range after it's created."
   ]
  },
  {
   "cell_type": "markdown",
   "id": "ad53dd39",
   "metadata": {},
   "source": [
    "Ranges are created using the range() constructor."
   ]
  },
  {
   "cell_type": "markdown",
   "id": "422f8842",
   "metadata": {},
   "source": [
    "Ranges are used when you need to generate a sequence of numbers (usually integers) for iteration. Ranges are frequently used in for loops."
   ]
  },
  {
   "cell_type": "markdown",
   "id": "ced9ee54",
   "metadata": {},
   "source": [
    "Elements in a range are generated on-the-fly and are not stored in memory as a sequence. You typically use ranges in for loops to iterate over a sequence of numbers."
   ]
  },
  {
   "cell_type": "markdown",
   "id": "91fc0add",
   "metadata": {},
   "source": [
    "Ranges are memory-efficient because they generate elements as needed rather than storing them in memory."
   ]
  },
  {
   "cell_type": "raw",
   "id": "dad16bde",
   "metadata": {},
   "source": [
    "Range (range): range(1, 4) #(generates 1, 2, 3)"
   ]
  },
  {
   "cell_type": "markdown",
   "id": "e10f5306",
   "metadata": {},
   "source": [
    "#### Mapping Type:"
   ]
  },
  {
   "cell_type": "raw",
   "id": "cb33c9ce",
   "metadata": {},
   "source": [
    "dict: Dictionaries, which store key-value pairs, e.g., {\"name\": \"Alice\", \"age\": 30}."
   ]
  },
  {
   "cell_type": "markdown",
   "id": "64d21efc",
   "metadata": {},
   "source": [
    "Dictionaries are used to store key-value pairs and are ideal for mapping one piece of data to another."
   ]
  },
  {
   "cell_type": "markdown",
   "id": "e52bf6b7",
   "metadata": {},
   "source": [
    "Dictionaries are collections of key-value pairs where keys are unique and used to access values."
   ]
  },
  {
   "cell_type": "markdown",
   "id": "672e7cf6",
   "metadata": {},
   "source": [
    "Dictionaries are mutable, so you can add, modify, or remove key-value pairs."
   ]
  },
  {
   "cell_type": "markdown",
   "id": "7610b220",
   "metadata": {},
   "source": [
    "Dictionaries are defined using curly braces {} or the dict() constructor with key-value pairs."
   ]
  },
  {
   "cell_type": "code",
   "execution_count": 12,
   "id": "f958ed9f",
   "metadata": {},
   "outputs": [],
   "source": [
    "my_dict = {\"name\": \"Alice\", \"age\": 30}\n",
    "my_dict[\"city\"] = \"New York\""
   ]
  },
  {
   "cell_type": "markdown",
   "id": "00a5349d",
   "metadata": {},
   "source": [
    "#### Set Types:"
   ]
  },
  {
   "cell_type": "raw",
   "id": "be693b39",
   "metadata": {},
   "source": [
    "set: Sets, which are unordered collections of unique values, e.g., {1, 2, 3}.\n",
    "frozenset: Immutable sets, e.g., frozenset([1, 2, 3])."
   ]
  },
  {
   "cell_type": "markdown",
   "id": "795e3452",
   "metadata": {},
   "source": [
    "set and frozenset are both built-in data types in Python that represent collections of unique elements. However, there is a significant difference between the two: mutability."
   ]
  },
  {
   "cell_type": "markdown",
   "id": "47bba1e1",
   "metadata": {},
   "source": [
    "###### Set (set):"
   ]
  },
  {
   "cell_type": "markdown",
   "id": "4356f83b",
   "metadata": {},
   "source": [
    "Sets are mutable, which means you can add, remove, and modify elements after creating a set.\n",
    "You can create a set using curly braces {} or the set() constructor."
   ]
  },
  {
   "cell_type": "markdown",
   "id": "503e7aae",
   "metadata": {},
   "source": [
    "Use a set when you need a collection of unique elements that can be modified."
   ]
  },
  {
   "cell_type": "code",
   "execution_count": 4,
   "id": "2927e862",
   "metadata": {},
   "outputs": [
    {
     "name": "stdout",
     "output_type": "stream",
     "text": [
      "{1, 2, 3}\n",
      "After adding a element {1, 2, 3, 4}\n",
      "After removing the element {1, 3, 4}\n"
     ]
    }
   ],
   "source": [
    "my_set = {1, 2, 3}\n",
    "print(my_set)\n",
    "\n",
    "my_set.add(4)  # Adding an element\n",
    "print(\"After adding a element\",my_set)\n",
    "\n",
    "my_set.remove(2)  # Removing an element\n",
    "print(\"After removing the element\",my_set)"
   ]
  },
  {
   "cell_type": "markdown",
   "id": "b10fb6dd",
   "metadata": {},
   "source": [
    "###### Frozenset (frozenset):"
   ]
  },
  {
   "cell_type": "markdown",
   "id": "34756479",
   "metadata": {},
   "source": [
    "Frozensets are immutable, which means once you create a frozenset, you cannot change its elements.\n",
    "Frozensets are created using the frozenset() constructor."
   ]
  },
  {
   "cell_type": "markdown",
   "id": "c449d00a",
   "metadata": {},
   "source": [
    "Use a frozenset when you need an immutable collection of unique elements, often to be used as keys in dictionaries or elements in other sets. Frozensets are also suitable for situations where you want to ensure that the set's contents remain constant."
   ]
  },
  {
   "cell_type": "code",
   "execution_count": 6,
   "id": "0689eaf2",
   "metadata": {},
   "outputs": [
    {
     "name": "stdout",
     "output_type": "stream",
     "text": [
      "frozenset({1, 2, 3})\n"
     ]
    },
    {
     "ename": "AttributeError",
     "evalue": "'frozenset' object has no attribute 'add'",
     "output_type": "error",
     "traceback": [
      "\u001b[1;31m---------------------------------------------------------------------------\u001b[0m",
      "\u001b[1;31mAttributeError\u001b[0m                            Traceback (most recent call last)",
      "Input \u001b[1;32mIn [6]\u001b[0m, in \u001b[0;36m<cell line: 4>\u001b[1;34m()\u001b[0m\n\u001b[0;32m      2\u001b[0m \u001b[38;5;28mprint\u001b[39m(my_frozenset)\n\u001b[0;32m      3\u001b[0m \u001b[38;5;66;03m# Attempting to modify a frozenset will raise an error\u001b[39;00m\n\u001b[1;32m----> 4\u001b[0m \u001b[43mmy_frozenset\u001b[49m\u001b[38;5;241;43m.\u001b[39;49m\u001b[43madd\u001b[49m(\u001b[38;5;241m4\u001b[39m)  \u001b[38;5;66;03m# This will result in an AttributeError\u001b[39;00m\n\u001b[0;32m      5\u001b[0m \u001b[38;5;28mprint\u001b[39m(\u001b[38;5;124m\"\u001b[39m\u001b[38;5;124mAfter adding a element\u001b[39m\u001b[38;5;124m\"\u001b[39m,my_frozenset)\n",
      "\u001b[1;31mAttributeError\u001b[0m: 'frozenset' object has no attribute 'add'"
     ]
    }
   ],
   "source": [
    "my_frozenset = frozenset([1, 2, 3])\n",
    "print(my_frozenset)\n",
    "\n",
    "# Attempting to modify a frozenset will raise an error\n",
    "\n",
    "my_frozenset.add(4)  # This will result in an AttributeError\n",
    "print(\"After adding a element\",my_frozenset)"
   ]
  },
  {
   "cell_type": "markdown",
   "id": "cbc30fee",
   "metadata": {},
   "source": [
    "#### Binary Types:"
   ]
  },
  {
   "cell_type": "raw",
   "id": "a986b5f6",
   "metadata": {},
   "source": [
    "bytes: Immutable sequences of bytes, e.g., b'hello'.\n",
    "bytearray: Mutable sequences of bytes, e.g., bytearray(b'hello').\n",
    "memoryview: Memory view objects that allow access to the internal data of other "
   ]
  },
  {
   "cell_type": "markdown",
   "id": "ea3feb98",
   "metadata": {},
   "source": [
    "###### Bytes"
   ]
  },
  {
   "cell_type": "markdown",
   "id": "8532b029",
   "metadata": {},
   "source": [
    "bytes is immutable and suitable for representing fixed binary data like constants or data read from files."
   ]
  },
  {
   "cell_type": "code",
   "execution_count": 8,
   "id": "624d9aeb",
   "metadata": {},
   "outputs": [
    {
     "name": "stdout",
     "output_type": "stream",
     "text": [
      "b'hello'\n"
     ]
    }
   ],
   "source": [
    "data = b'hello'\n",
    "print(data)"
   ]
  },
  {
   "cell_type": "markdown",
   "id": "61d9936c",
   "metadata": {},
   "source": [
    "###### ByteArray"
   ]
  },
  {
   "cell_type": "markdown",
   "id": "c87712a8",
   "metadata": {},
   "source": [
    "bytearray is mutable and useful when you need to modify binary data in-place"
   ]
  },
  {
   "cell_type": "code",
   "execution_count": 10,
   "id": "97bee152",
   "metadata": {},
   "outputs": [
    {
     "name": "stdout",
     "output_type": "stream",
     "text": [
      "bytearray(b'hello')\n",
      "bytearray(b'Hello')\n"
     ]
    }
   ],
   "source": [
    "data = bytearray(b'hello')\n",
    "print(data)\n",
    "\n",
    "data[0] = ord('H')  # Change the first byte to 'H'\n",
    "print(data)\n"
   ]
  },
  {
   "cell_type": "markdown",
   "id": "3d21ecde",
   "metadata": {},
   "source": [
    "###### memoryview"
   ]
  },
  {
   "cell_type": "markdown",
   "id": "8838eedb",
   "metadata": {},
   "source": [
    " provides a view into the memory of objects, allowing efficient read-only access to their contents without copying."
   ]
  },
  {
   "cell_type": "code",
   "execution_count": 11,
   "id": "b86a4181",
   "metadata": {},
   "outputs": [
    {
     "name": "stdout",
     "output_type": "stream",
     "text": [
      "<memory at 0x000001E017EDBDC0>\n"
     ]
    }
   ],
   "source": [
    "data = bytearray(b'hello')\n",
    "view = memoryview(data)\n",
    "# Access the data through the memory view without copying it\n",
    "print(view)"
   ]
  },
  {
   "cell_type": "markdown",
   "id": "8b1b632b",
   "metadata": {},
   "source": [
    "#### None Type:"
   ]
  },
  {
   "cell_type": "raw",
   "id": "2b167e61",
   "metadata": {},
   "source": [
    "None: Represents the absence of a value or a null value."
   ]
  },
  {
   "cell_type": "markdown",
   "id": "41f31a3c",
   "metadata": {},
   "source": [
    "# Getting the Data Type"
   ]
  },
  {
   "cell_type": "markdown",
   "id": "edded91a",
   "metadata": {},
   "source": [
    "You can get the data type of any object by using the type() function"
   ]
  },
  {
   "cell_type": "code",
   "execution_count": 1,
   "id": "67879347",
   "metadata": {},
   "outputs": [
    {
     "name": "stdout",
     "output_type": "stream",
     "text": [
      "<class 'int'>\n"
     ]
    }
   ],
   "source": [
    "x = 5\n",
    "print(type(x))"
   ]
  },
  {
   "cell_type": "markdown",
   "id": "10692d51",
   "metadata": {},
   "source": [
    "# Setting the Data Type"
   ]
  },
  {
   "cell_type": "markdown",
   "id": "7c95d5f0",
   "metadata": {},
   "source": [
    "In Python, the data type is set when you assign a value to a variable"
   ]
  },
  {
   "cell_type": "code",
   "execution_count": 2,
   "id": "de9dbf74",
   "metadata": {},
   "outputs": [
    {
     "name": "stdout",
     "output_type": "stream",
     "text": [
      "<class 'str'>\n"
     ]
    }
   ],
   "source": [
    "x = \"Hello World\"\n",
    "print(type(x))"
   ]
  },
  {
   "cell_type": "markdown",
   "id": "df0d92f1",
   "metadata": {},
   "source": [
    "# Setting the Specific Data Type"
   ]
  },
  {
   "cell_type": "markdown",
   "id": "c80a83d1",
   "metadata": {},
   "source": [
    "If you want to specify the data type, you can use the following constructor functions"
   ]
  },
  {
   "cell_type": "code",
   "execution_count": 3,
   "id": "84e325a5",
   "metadata": {},
   "outputs": [],
   "source": [
    "x = str(\"Hello World\")\n",
    "y = int(20)\n",
    "a = float(20.5)\n",
    "b = complex(1j)\n",
    "e = list((\"apple\", \"banana\", \"cherry\"))\n",
    "c = tuple((\"apple\", \"banana\", \"cherry\"))\n",
    "d = range(6)\n",
    "f = dict(name=\"John\", age=36)\n",
    "g = set((\"apple\", \"banana\", \"cherry\"))\n",
    "z = frozenset((\"apple\", \"banana\", \"cherry\"))\n",
    "i = bool(5)\n",
    "j = bytes(5)\n",
    "k = bytearray(5)\n",
    "l = memoryview(bytes(5))"
   ]
  },
  {
   "cell_type": "markdown",
   "id": "34298a56",
   "metadata": {},
   "source": [
    "# Key takeaways:"
   ]
  },
  {
   "cell_type": "raw",
   "id": "a444ec7b",
   "metadata": {},
   "source": [
    "--> Python's dynamic typing system allows you to create variables of these types and perform operations on them without needing to declare the type explicitly.\n",
    "\n",
    "--> Lists and tuples are used to store collections of elements, but lists are mutable, and tuples are immutable.\n",
    "\n",
    "--> Ranges are used to represent sequences of numbers, often in loops or as input to other functions.\n",
    "\n",
    "--> Dictionaries are used to store key-value pairs and are ideal for mapping one piece of data to another.\n",
    "\n",
    "--> Use lists when you need a collection of items that can change, tuples when you want an unchangeable sequence, ranges for generating sequences of numbers, and dictionaries when you need key-value associations.\n",
    "\n",
    "--> Sets are mutable where as frozensets are immutable.\n",
    "\n",
    "--> Use a set when you need a collection of unique elements that can be modified.\n",
    "\n",
    "--> Use a frozenset when you need an immutable collection of unique elements, often to be used as keys in dictionaries or elements in other sets. \n",
    "\n",
    "--> Frozensets are also suitable for situations where you want to ensure that the set's contents remain constant.\n",
    "\n",
    "--> You can get the data type of any object by using the type() function"
   ]
  },
  {
   "cell_type": "markdown",
   "id": "105fd61f",
   "metadata": {},
   "source": [
    "# Exercises"
   ]
  },
  {
   "cell_type": "markdown",
   "id": "20956aef",
   "metadata": {},
   "source": [
    "Write a program that adds the digits in a 2 digit number. e.g. if the input was 35, then the output should be 3 + 5 = 8"
   ]
  },
  {
   "cell_type": "code",
   "execution_count": null,
   "id": "2228da97",
   "metadata": {},
   "outputs": [],
   "source": [
    "# 🚨 Don't change the code below 👇\n",
    "two_digit_number = input(\"Type a two digit number: \")\n",
    "# 🚨 Don't change the code above 👆\n",
    "\n",
    "####################################\n",
    "#Write your code below this line 👇\n"
   ]
  },
  {
   "cell_type": "markdown",
   "id": "9de09174",
   "metadata": {},
   "source": [
    "Write a program that calculates the Body Mass Index (BMI) from a user's weight and height."
   ]
  },
  {
   "cell_type": "markdown",
   "id": "bc3ff4b7",
   "metadata": {},
   "source": [
    "The BMI is a measure of someone's weight taking into account their height. e.g. If a tall person and a short person both weigh the same amount, the short person is usually more overweight."
   ]
  },
  {
   "cell_type": "markdown",
   "id": "f5cca60a",
   "metadata": {},
   "source": [
    "The BMI is calculated by dividing a person's weight (in kg) by the square of their height (in m):"
   ]
  },
  {
   "cell_type": "code",
   "execution_count": null,
   "id": "d4b3c76f",
   "metadata": {},
   "outputs": [],
   "source": [
    "# 🚨 Don't change the code below 👇\n",
    "height = input(\"enter your height in m: \")\n",
    "weight = input(\"enter your weight in kg: \")\n",
    "# 🚨 Don't change the code above 👆\n",
    "\n",
    "#Write your code below this line 👇"
   ]
  },
  {
   "cell_type": "markdown",
   "id": "b0cf6df6",
   "metadata": {},
   "source": [
    "Create a program using maths and f-Strings that tells us how many days, weeks, months we have left if we live until 90 years old."
   ]
  },
  {
   "cell_type": "markdown",
   "id": "0a5d6f2a",
   "metadata": {},
   "source": [
    "It will take your current age as the input and output a message with our time left in this format:"
   ]
  },
  {
   "cell_type": "markdown",
   "id": "73254608",
   "metadata": {},
   "source": [
    "You have x days, y weeks, and z months left."
   ]
  },
  {
   "cell_type": "code",
   "execution_count": null,
   "id": "dccbb451",
   "metadata": {},
   "outputs": [],
   "source": [
    "# 🚨 Don't change the code below 👇\n",
    "age = input(\"What is your current age? \")\n",
    "# 🚨 Don't change the code above 👆\n",
    "\n",
    "#Write your code below this line 👇\n"
   ]
  },
  {
   "cell_type": "markdown",
   "id": "186bb71a",
   "metadata": {},
   "source": [
    "# Challenges"
   ]
  },
  {
   "cell_type": "markdown",
   "id": "29ddf351",
   "metadata": {},
   "source": [
    "##### Problem 1: Find the Missing Number"
   ]
  },
  {
   "cell_type": "markdown",
   "id": "829c78bf",
   "metadata": {},
   "source": [
    "Write a Python program to find the missing number in a list of integers from 1 to N (inclusive), where one number is missing. For example, if the input list is [1, 2, 4, 5], the program should output 3, which is the missing number."
   ]
  },
  {
   "cell_type": "code",
   "execution_count": 13,
   "id": "cb357a1c",
   "metadata": {},
   "outputs": [
    {
     "name": "stdout",
     "output_type": "stream",
     "text": [
      "Missing Number: 3\n"
     ]
    }
   ],
   "source": [
    "input_list = [1, 2, 4, 5]\n",
    "n = len(input_list) + 1\n",
    "total_sum = n * (n + 1) // 2\n",
    "actual_sum = sum(input_list)\n",
    "missing_number = total_sum - actual_sum\n",
    "print(\"Missing Number:\", missing_number)"
   ]
  },
  {
   "cell_type": "markdown",
   "id": "553d3bbf",
   "metadata": {},
   "source": [
    "##### Problem 2: Palindrome Check"
   ]
  },
  {
   "cell_type": "markdown",
   "id": "2b8969e4",
   "metadata": {},
   "source": [
    "Write a Python program that checks if a given string is a palindrome. A palindrome is a word, phrase, number, or other sequence of characters that reads the same forward and backward."
   ]
  },
  {
   "cell_type": "code",
   "execution_count": 14,
   "id": "d1e894f2",
   "metadata": {},
   "outputs": [
    {
     "name": "stdout",
     "output_type": "stream",
     "text": [
      "Is Palindrome? True\n"
     ]
    }
   ],
   "source": [
    "input_string = \"A man, a plan, a canal, Panama\"\n",
    "input_string = input_string.lower()  # Convert to lowercase for case-insensitive check\n",
    "input_string = ''.join(filter(str.isalnum, input_string))  # Remove non-alphanumeric characters\n",
    "is_palindrome = input_string == input_string[::-1]\n",
    "print(\"Is Palindrome?\", is_palindrome)"
   ]
  },
  {
   "cell_type": "markdown",
   "id": "48eedeba",
   "metadata": {},
   "source": [
    "##### Problem 3: Sorting Strings"
   ]
  },
  {
   "cell_type": "markdown",
   "id": "633f5a05",
   "metadata": {},
   "source": [
    "Write a Python program that takes a list of strings and sorts them in lexicographical order (alphabetical order). Ensure that the program is case-insensitive."
   ]
  },
  {
   "cell_type": "code",
   "execution_count": 15,
   "id": "35aebba8",
   "metadata": {},
   "outputs": [
    {
     "name": "stdout",
     "output_type": "stream",
     "text": [
      "Sorted Strings: ['apple', 'Banana', 'cherry', 'date']\n"
     ]
    }
   ],
   "source": [
    "input_strings = [\"apple\", \"Banana\", \"cherry\", \"date\"]\n",
    "input_strings.sort(key=str.lower)  # Case-insensitive sorting\n",
    "print(\"Sorted Strings:\", input_strings)"
   ]
  },
  {
   "cell_type": "markdown",
   "id": "95d4047a",
   "metadata": {},
   "source": [
    "##### Problem 4: Calculate Mean and Median"
   ]
  },
  {
   "cell_type": "markdown",
   "id": "c46b4400",
   "metadata": {},
   "source": [
    "Write a Python program that calculates the mean (average) and median (middle value) of a list of numbers."
   ]
  },
  {
   "cell_type": "code",
   "execution_count": 16,
   "id": "861c3c64",
   "metadata": {},
   "outputs": [
    {
     "name": "stdout",
     "output_type": "stream",
     "text": [
      "Mean: 3.6666666666666665\n",
      "Median: 3.5\n"
     ]
    }
   ],
   "source": [
    "input_numbers = [5, 2, 1, 7, 3, 4]\n",
    "input_numbers.sort()\n",
    "n = len(input_numbers)\n",
    "\n",
    "mean = sum(input_numbers) / n\n",
    "\n",
    "if n % 2 == 0:\n",
    "    middle1 = input_numbers[n // 2 - 1]\n",
    "    middle2 = input_numbers[n // 2]\n",
    "    median = (middle1 + middle2) / 2\n",
    "else:\n",
    "    median = input_numbers[n // 2]\n",
    "\n",
    "print(\"Mean:\", mean)\n",
    "print(\"Median:\", median)\n"
   ]
  },
  {
   "cell_type": "markdown",
   "id": "c7ee6a28",
   "metadata": {},
   "source": [
    "##### Problem 5: Prime Factors"
   ]
  },
  {
   "cell_type": "markdown",
   "id": "0e72e184",
   "metadata": {},
   "source": [
    "Write a Python program that finds and prints all the prime factors of a given integer. For example, if the input is 12, the program should output [2, 3]."
   ]
  },
  {
   "cell_type": "markdown",
   "id": "80388b12",
   "metadata": {},
   "source": [
    "##### Problem 6: Set Intersection"
   ]
  },
  {
   "cell_type": "markdown",
   "id": "c4566967",
   "metadata": {},
   "source": [
    "Write a Python program that takes two lists as input and returns their intersection (common elements) as a new list. Avoid duplicate elements in the output."
   ]
  },
  {
   "cell_type": "code",
   "execution_count": 17,
   "id": "e5ba98e3",
   "metadata": {},
   "outputs": [
    {
     "name": "stdout",
     "output_type": "stream",
     "text": [
      "Intersection of Lists: [4, 5]\n"
     ]
    }
   ],
   "source": [
    "list1 = [1, 2, 3, 4, 5]\n",
    "list2 = [4, 5, 6, 7, 8]\n",
    "intersection = [x for x in list1 if x in list2]\n",
    "print(\"Intersection of Lists:\", intersection)\n"
   ]
  },
  {
   "cell_type": "markdown",
   "id": "c15a6741",
   "metadata": {},
   "source": [
    "##### Problem 7: Validate Email Address"
   ]
  },
  {
   "cell_type": "markdown",
   "id": "3ae9e25f",
   "metadata": {},
   "source": [
    "Write a Python program that validates whether a given string is a valid email address according to common email address rules. It should check for the presence of '@' and a valid domain name."
   ]
  },
  {
   "cell_type": "code",
   "execution_count": 20,
   "id": "ff5f906c",
   "metadata": {},
   "outputs": [
    {
     "name": "stdout",
     "output_type": "stream",
     "text": [
      "Enter an email address: sanajalgaonkar@outlook.com\n",
      "Valid Email Address\n"
     ]
    }
   ],
   "source": [
    "import re\n",
    "\n",
    "# Get the email address from the user\n",
    "email = input(\"Enter an email address: \")\n",
    "\n",
    "# Define a regular expression pattern for a valid email address\n",
    "email_pattern = r'^[a-zA-Z0-9._%+-]+@[a-zA-Z0-9.-]+\\.[a-zA-Z]{2,}$'\n",
    "\n",
    "# Use re.match() to check if the email matches the pattern\n",
    "if re.match(email_pattern, email):\n",
    "    print(\"Valid Email Address\")\n",
    "else:\n",
    "    print(\"Invalid Email Address\")\n"
   ]
  },
  {
   "cell_type": "markdown",
   "id": "d8546723",
   "metadata": {},
   "source": [
    "##### Problem 8: Longest Consecutive Subsequence"
   ]
  },
  {
   "cell_type": "markdown",
   "id": "1c013295",
   "metadata": {},
   "source": [
    "Write a Python program that finds the longest consecutive subsequence of integers in an input list. For example, given [100, 4, 200, 1, 3, 2], the program should return [1, 2, 3, 4]."
   ]
  },
  {
   "cell_type": "markdown",
   "id": "c31204ae",
   "metadata": {},
   "source": [
    "##### Problem 9: Matrix Transposition"
   ]
  },
  {
   "cell_type": "markdown",
   "id": "34e0b93a",
   "metadata": {},
   "source": [
    "Write a Python program that transposes a given matrix (a list of lists). The transpose of a matrix flips it over its diagonal. For example, if the input matrix is [[1, 2, 3], [4, 5, 6]], the program should return [[1, 4], [2, 5], [3, 6]]."
   ]
  },
  {
   "cell_type": "code",
   "execution_count": 19,
   "id": "714c99b9",
   "metadata": {},
   "outputs": [
    {
     "name": "stdout",
     "output_type": "stream",
     "text": [
      "Transposed Matrix: [[1, 4], [2, 5], [3, 6]]\n"
     ]
    }
   ],
   "source": [
    "matrix = [[1, 2, 3], [4, 5, 6]]\n",
    "transposed_matrix = [[row[i] for row in matrix] for i in range(len(matrix[0]))]\n",
    "print(\"Transposed Matrix:\", transposed_matrix)\n"
   ]
  },
  {
   "cell_type": "markdown",
   "id": "c1c01d5c",
   "metadata": {},
   "source": [
    "##### Problem 10: JSON Serialization and Deserialization"
   ]
  },
  {
   "cell_type": "markdown",
   "id": "7883ad8c",
   "metadata": {},
   "source": [
    "Write a Python program that serializes a Python dictionary to a JSON string and then deserializes it back to a Python dictionary. Ensure that the program handles data types like integers, floats, strings, lists, and nested dictionaries."
   ]
  },
  {
   "cell_type": "code",
   "execution_count": 18,
   "id": "b68e0fac",
   "metadata": {},
   "outputs": [
    {
     "name": "stdout",
     "output_type": "stream",
     "text": [
      "JSON String: {\"name\": \"Alice\", \"age\": 30}\n",
      "Decoded Data: {'name': 'Alice', 'age': 30}\n"
     ]
    }
   ],
   "source": [
    "import json\n",
    "\n",
    "# Serialization\n",
    "data = {\"name\": \"Alice\", \"age\": 30}\n",
    "json_string = json.dumps(data)\n",
    "print(\"JSON String:\", json_string)\n",
    "\n",
    "# Deserialization\n",
    "decoded_data = json.loads(json_string)\n",
    "print(\"Decoded Data:\", decoded_data)\n"
   ]
  },
  {
   "cell_type": "code",
   "execution_count": null,
   "id": "d348660d",
   "metadata": {},
   "outputs": [],
   "source": []
  }
 ],
 "metadata": {
  "kernelspec": {
   "display_name": "Python 3 (ipykernel)",
   "language": "python",
   "name": "python3"
  },
  "language_info": {
   "codemirror_mode": {
    "name": "ipython",
    "version": 3
   },
   "file_extension": ".py",
   "mimetype": "text/x-python",
   "name": "python",
   "nbconvert_exporter": "python",
   "pygments_lexer": "ipython3",
   "version": "3.9.12"
  }
 },
 "nbformat": 4,
 "nbformat_minor": 5
}
