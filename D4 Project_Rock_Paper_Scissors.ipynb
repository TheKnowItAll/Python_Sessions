{
 "cells": [
  {
   "cell_type": "markdown",
   "id": "87a1ac2b",
   "metadata": {},
   "source": [
    "#### Rock Paper Scissors"
   ]
  },
  {
   "cell_type": "markdown",
   "id": "b87400c3",
   "metadata": {},
   "source": [
    "##### Instructions"
   ]
  },
  {
   "cell_type": "raw",
   "id": "8bf1d665",
   "metadata": {},
   "source": [
    "Make a rock, paper, scissors game.\n",
    "\n",
    "Inside the main.py file, you'll find the ASCII art for the hand signals already saved to a corresponding variable: rock, paper, and scissors. This will make it easy to print them out to the console.\n",
    "\n",
    "Start the game by asking the player:\n",
    "\n",
    "\"What do you choose? Type 0 for Rock, 1 for Paper or 2 for Scissors.\"\n",
    "\n",
    "From there you will need to figure out:\n",
    "\n",
    "How you will store the user's input.\n",
    "How you will generate a random choice for the computer.\n",
    "How you will compare the user's and the computer's choice to determine the winner (or a draw).\n",
    "And also how you will give feedback to the player.\n",
    "You can find the \"official\" rules of the game on the World Rock Paper Scissors Association website.\n",
    "\n",
    "Debugging challenge\n",
    "Try running this code and type 5.\n",
    "\n",
    "It will give you an IndexError and point to line 32 as the issue.\n",
    "\n",
    "But on line 38 we are trying to prevent a crash by detecting any numbers great than or equal to 3 or less than 0.\n",
    "\n",
    "So what's going on? Can you debug the code and fix it?"
   ]
  },
  {
   "cell_type": "code",
   "execution_count": 2,
   "id": "fa7e8cea",
   "metadata": {},
   "outputs": [
    {
     "name": "stdout",
     "output_type": "stream",
     "text": [
      "What do you choose? Type 0 for Rock, 1 for Paper or 2 for Scissors.\n",
      "1\n",
      "\n",
      "    _______\n",
      "---'   ____)____\n",
      "          ______)\n",
      "          _______)\n",
      "         _______)\n",
      "---.__________)\n",
      "\n",
      "Computer chose:\n",
      "\n",
      "    _______\n",
      "---'   ____)____\n",
      "          ______)\n",
      "       __________)\n",
      "      (____)\n",
      "---.__(___)\n",
      "\n",
      "You lose\n"
     ]
    }
   ],
   "source": [
    "import random\n",
    "\n",
    "game_images = [rock, paper, scissors]\n",
    "\n",
    "user_choice = int(input(\"What do you choose? Type 0 for Rock, 1 for Paper or 2 for Scissors.\\n\"))\n",
    "print(game_images[user_choice])\n",
    "\n",
    "computer_choice = random.randint(0, 2)\n",
    "print(\"Computer chose:\")\n",
    "print(game_images[computer_choice])\n",
    "\n",
    "if user_choice >= 3 or user_choice < 0: \n",
    "  print(\"You typed an invalid number, you lose!\") \n",
    "elif user_choice == 0 and computer_choice == 2:\n",
    "  print(\"You win!\")\n",
    "elif computer_choice == 0 and user_choice == 2:\n",
    "  print(\"You lose\")\n",
    "elif computer_choice > user_choice:\n",
    "  print(\"You lose\")\n",
    "elif user_choice > computer_choice:\n",
    "  print(\"You win!\")\n",
    "elif computer_choice == user_choice:\n",
    "  print(\"It's a draw\")\n",
    "\n",
    "####### Debugging challenge: #########\n",
    "#Try running this code and type 5.\n",
    "#It will give you an IndexError and point to line 32 as the issue.\n",
    "#But on line 38 we are trying to prevent a crash by detecting\n",
    "#any numbers great than or equal to 3 or less than 0.\n",
    "#So what's going on?\n",
    "#Can you debug the code and fix it?"
   ]
  },
  {
   "cell_type": "code",
   "execution_count": null,
   "id": "0092aa75",
   "metadata": {},
   "outputs": [],
   "source": []
  }
 ],
 "metadata": {
  "kernelspec": {
   "display_name": "Python 3 (ipykernel)",
   "language": "python",
   "name": "python3"
  },
  "language_info": {
   "codemirror_mode": {
    "name": "ipython",
    "version": 3
   },
   "file_extension": ".py",
   "mimetype": "text/x-python",
   "name": "python",
   "nbconvert_exporter": "python",
   "pygments_lexer": "ipython3",
   "version": "3.9.12"
  }
 },
 "nbformat": 4,
 "nbformat_minor": 5
}
