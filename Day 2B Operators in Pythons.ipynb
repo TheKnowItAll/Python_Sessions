{
 "cells": [
  {
   "cell_type": "markdown",
   "id": "ac439c63",
   "metadata": {},
   "source": [
    "# Operators in Python"
   ]
  },
  {
   "cell_type": "markdown",
   "id": "116525c3",
   "metadata": {},
   "source": [
    "Operators in Python are special symbols or keywords that are used to perform operations on values or variables. Python supports a wide range of operators, which can be categorized into the following groups:"
   ]
  },
  {
   "cell_type": "markdown",
   "id": "eda42867",
   "metadata": {},
   "source": [
    "### Arithmetic Operators"
   ]
  },
  {
   "cell_type": "raw",
   "id": "eddc963e",
   "metadata": {},
   "source": [
    "Addition (+): Adds two values.\n",
    "\n",
    "Subtraction (-): Subtracts the right operand from the left operand.\n",
    "\n",
    "Multiplication (*): Multiplies two values.\n",
    "\n",
    "Division (/): Divides the left operand by the right operand (float result).\n",
    "\n",
    "Floor Division (//): Divides the left operand by the right operand and returns the floor value (integer result).\n",
    "\n",
    "Modulus (%): Returns the remainder of the division of the left operand by the right operand.\n",
    "\n",
    "Exponentiation (**): Raises the left operand to the power of the right operand."
   ]
  },
  {
   "cell_type": "markdown",
   "id": "9d852ba9",
   "metadata": {},
   "source": [
    "### Comparison Operators"
   ]
  },
  {
   "cell_type": "raw",
   "id": "00c1c54a",
   "metadata": {},
   "source": [
    "Equal to (==): Checks if two values are equal.\n",
    "\n",
    "Not equal to (!=): Checks if two values are not equal.\n",
    "\n",
    "Greater than (>): Checks if the left operand is greater than the right operand.\n",
    "\n",
    "Less than (<): Checks if the left operand is less than the right operand.\n",
    "\n",
    "Greater than or equal to (>=): Checks if the left operand is greater than or equal to the right operand.\n",
    "\n",
    "Less than or equal to (<=): Checks if the left operand is less than or equal to the right operand."
   ]
  },
  {
   "cell_type": "markdown",
   "id": "2f14e8b5",
   "metadata": {},
   "source": [
    "### Logical Operators"
   ]
  },
  {
   "cell_type": "raw",
   "id": "d6e74763",
   "metadata": {},
   "source": [
    "and: Returns True if both operands are True.\n",
    "\n",
    "or: Returns True if at least one operand is True.\n",
    "\n",
    "not: Returns the opposite of the operand's value."
   ]
  },
  {
   "cell_type": "markdown",
   "id": "44700ca9",
   "metadata": {},
   "source": [
    "### Assignment Operators"
   ]
  },
  {
   "cell_type": "raw",
   "id": "3bf62747",
   "metadata": {},
   "source": [
    "=: Assigns the value on the right to the variable on the left.\n",
    "\n",
    "+=: Adds the right operand to the left operand and assigns the result to the left operand.\n",
    "\n",
    "-=: Subtracts the right operand from the left operand and assigns the result to the left operand.\n",
    "\n",
    "*=: Multiplies the left operand by the right operand and assigns the result to the left operand.\n",
    "\n",
    "/=: Divides the left operand by the right operand and assigns the result to the left operand.\n",
    "\n",
    "//=: Performs floor division on the left operand by the right operand and assigns the result to the left operand.\n",
    "\n",
    "%=: Computes the modulus of the left operand by the right operand and assigns the result to the left operand.\n",
    "\n",
    "**=: Raises the left operand to the power of the right operand and assigns the result to the left operand."
   ]
  },
  {
   "cell_type": "markdown",
   "id": "8b15ddf4",
   "metadata": {},
   "source": [
    "### Bitwise Operators"
   ]
  },
  {
   "cell_type": "raw",
   "id": "e74f3b27",
   "metadata": {},
   "source": [
    "& (Bitwise AND): Performs a bitwise AND operation.\n",
    "    \n",
    "| (Bitwise OR): Performs a bitwise OR operation.\n",
    "    \n",
    "^ (Bitwise XOR): Performs a bitwise XOR (exclusive OR) operation.\n",
    "    \n",
    "~ (Bitwise NOT): Inverts the bits of a value.\n",
    "    \n",
    "<< (Left Shift): Shifts the bits of a value to the left.\n",
    "    \n",
    ">>(Right Shift): Shifts the bits of a value to the right."
   ]
  },
  {
   "cell_type": "markdown",
   "id": "23a84a1f",
   "metadata": {},
   "source": [
    "### Membership Operators"
   ]
  },
  {
   "cell_type": "raw",
   "id": "75b485b9",
   "metadata": {},
   "source": [
    "in: Checks if a value exists in a sequence (e.g., list, tuple, or string).\n",
    "\n",
    "not in: Checks if a value does not exist in a sequence."
   ]
  },
  {
   "cell_type": "markdown",
   "id": "48e65dc8",
   "metadata": {},
   "source": [
    "### Identity Operators"
   ]
  },
  {
   "cell_type": "raw",
   "id": "3b660266",
   "metadata": {},
   "source": [
    "is: Checks if two variables reference the same object in memory.\n",
    "\n",
    "is not: Checks if two variables reference different objects in memory."
   ]
  },
  {
   "cell_type": "markdown",
   "id": "8e6cb973",
   "metadata": {},
   "source": [
    "# Operator Precedence and Associativity"
   ]
  },
  {
   "cell_type": "markdown",
   "id": "a8de7ecd",
   "metadata": {},
   "source": [
    "In Python, operators have precedence and associativity rules that determine the order in which operators are evaluated when multiple operators are used in a single expression. Precedence defines which operators are evaluated first, and associativity determines the order in which operators of the same precedence are evaluated."
   ]
  },
  {
   "cell_type": "markdown",
   "id": "d829c6a0",
   "metadata": {},
   "source": [
    "Here's an overview of operator precedence in Python, from highest to lowest precedence:"
   ]
  },
  {
   "cell_type": "raw",
   "id": "f77bf45a",
   "metadata": {},
   "source": [
    "Parentheses: () - Expressions inside parentheses are evaluated first.\n",
    "\n",
    "Exponentiation: ** - Exponentiation is performed before other arithmetic operations.\n",
    "\n",
    "Unary Operators: - (negation), + (positive), ~ (bitwise NOT) - Unary operators are evaluated before binary operators.\n",
    "\n",
    "Multiplication, Division, and Modulus: *, /, % - These arithmetic operations are evaluated from left to right.\n",
    "\n",
    "Addition and Subtraction: +, - - These arithmetic operations are evaluated from left to right.\n",
    "\n",
    "Bitwise Shifts: <<, >> - Bitwise shifts are evaluated from left to right.\n",
    "\n",
    "Bitwise AND: & - Bitwise AND is evaluated from left to right.\n",
    "\n",
    "Bitwise XOR: ^ - Bitwise XOR is evaluated from left to right.\n",
    "\n",
    "Bitwise OR: | - Bitwise OR is evaluated from left to right.\n",
    "\n",
    "Comparison Operators: <, <=, >, >=, ==, !=, is, is not, in, not in - Comparison operators have the same precedence and are evaluated from left to right.\n",
    "\n",
    "Logical NOT: not - Logical NOT is evaluated before logical AND and logical OR.\n",
    "\n",
    "Logical AND: and - Logical AND is evaluated from left to right.\n",
    "\n",
    "Logical OR: or - Logical OR is evaluated from left to right."
   ]
  },
  {
   "cell_type": "markdown",
   "id": "c9994b9f",
   "metadata": {},
   "source": [
    "When operators of the same precedence are used in an expression, Python follows associativity rules:"
   ]
  },
  {
   "cell_type": "raw",
   "id": "52040829",
   "metadata": {},
   "source": [
    "For most binary operators (e.g., +, -, *, /), associativity is left-to-right. This means that expressions are evaluated from left to right.\n",
    "\n",
    "Exponentiation (**) is right-associative, meaning that if you have multiple exponentiation operators in a row, they are evaluated from right to left."
   ]
  },
  {
   "cell_type": "code",
   "execution_count": 1,
   "id": "8f8807ed",
   "metadata": {},
   "outputs": [],
   "source": [
    "result = 2 + 3 * 4  # Multiplication has higher precedence, so it's evaluated first: 2 + (3 * 4) = 2 + 12 = 14\n",
    "\n",
    "value = -1 ** 2  # Exponentiation is right-associative, so it's evaluated as -(1 ** 2) = -1\n",
    "\n",
    "logic = True or False and not True  # Logical NOT is evaluated first: True or (False and (not True)) = True or (False and False) = True or False = True\n"
   ]
  },
  {
   "cell_type": "markdown",
   "id": "b6844c17",
   "metadata": {},
   "source": [
    "### Note:"
   ]
  },
  {
   "cell_type": "markdown",
   "id": "ace527f6",
   "metadata": {},
   "source": [
    "Understanding operator precedence and associativity is important for writing correct and predictable expressions in Python. Parentheses can be used to override the default precedence and enforce the order of evaluation."
   ]
  },
  {
   "cell_type": "code",
   "execution_count": null,
   "id": "31e288ce",
   "metadata": {},
   "outputs": [],
   "source": []
  }
 ],
 "metadata": {
  "kernelspec": {
   "display_name": "Python 3 (ipykernel)",
   "language": "python",
   "name": "python3"
  },
  "language_info": {
   "codemirror_mode": {
    "name": "ipython",
    "version": 3
   },
   "file_extension": ".py",
   "mimetype": "text/x-python",
   "name": "python",
   "nbconvert_exporter": "python",
   "pygments_lexer": "ipython3",
   "version": "3.9.12"
  }
 },
 "nbformat": 4,
 "nbformat_minor": 5
}
