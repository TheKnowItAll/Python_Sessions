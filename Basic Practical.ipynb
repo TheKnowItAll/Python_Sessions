{
 "cells": [
  {
   "cell_type": "code",
   "execution_count": null,
   "id": "95b3a617",
   "metadata": {},
   "outputs": [],
   "source": [
    "#Accept temperature in Fahrenheit(F) and print it in Celcius(C) and kelvin(K)\n",
    "#Accept a character from the keyboard & display it's previous & next character\n",
    "#Swapping of numbers\n",
    "#Write a program which accepts annual basic salary of an employee & calculate the income tax as per the following:\n",
    "\"\"\"Basic Salary:<15000, tax=0\n",
    "15000 to 30000 tax=20%\n",
    "Salary>30000 tax=30%\"\"\"\n",
    "#write a program to check whether given character is a digit or a character in lower/upper case.\n",
    "#write a program to accept marks of 3 subjects, calculate the average & also display the class obtained.\n",
    "#write a program having a menu with the options and corresponding acrions.\n",
    "#Accept a single digit from the user and display it in words.\n",
    "#Accept two integers x & n. Compute x raise to n.\n",
    "#write a program to accept an integer, count number of digits & calculate sum of digits in the number.\n",
    "#write a program to display the first n fibbonaci number series.\n",
    "#write a program to accept an integer & check if it's prime or not.\n",
    "#write a program to display armstrong number between 1 & 500.\n",
    "#write a program to display all perfect numbers below 500.\n",
    "#write a menu driven program to perform following operations on a character type variable.\n",
    "\"\"\"1. Check if it is alphabet\n",
    "2. check if it is digit\n",
    "3. check if it is lowercase.\n",
    "4. check if it is Uppercase\n",
    "5. convert it to uppercase\n",
    "6. convert it to lower case\"\"\"\n",
    "#write a function which accepts a character & integer n as a parameter & display the next n characters.\n",
    "#"
   ]
  }
 ],
 "metadata": {
  "kernelspec": {
   "display_name": "Python 3 (ipykernel)",
   "language": "python",
   "name": "python3"
  },
  "language_info": {
   "codemirror_mode": {
    "name": "ipython",
    "version": 3
   },
   "file_extension": ".py",
   "mimetype": "text/x-python",
   "name": "python",
   "nbconvert_exporter": "python",
   "pygments_lexer": "ipython3",
   "version": "3.9.12"
  }
 },
 "nbformat": 4,
 "nbformat_minor": 5
}
