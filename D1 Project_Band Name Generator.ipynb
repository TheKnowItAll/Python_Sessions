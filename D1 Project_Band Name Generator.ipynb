{
 "cells": [
  {
   "cell_type": "code",
   "execution_count": 1,
   "id": "84d29aed",
   "metadata": {},
   "outputs": [],
   "source": [
    "#1. Create a greeting for your program.\n",
    "\n",
    "#2. Ask the user for the city that they grew up in.\n",
    "\n",
    "#3. Ask the user for the name of a pet.\n",
    "\n",
    "#4. Combine the name of their city and pet and show them their band name.\n",
    "\n",
    "#5. Make sure the input cursor shows on a new line:"
   ]
  },
  {
   "cell_type": "code",
   "execution_count": 1,
   "id": "837d8737",
   "metadata": {},
   "outputs": [
    {
     "name": "stdout",
     "output_type": "stream",
     "text": [
      "Welcome to the Band Name Generator.\n",
      "What's the name of the city you grew up in?\n",
      "PUNE\n",
      "What's your pet's name?\n",
      "Ginger\n",
      "Your band name could be PUNE Ginger\n"
     ]
    }
   ],
   "source": [
    "print(\"Welcome to the Band Name Generator.\") #1.\n",
    "street = input(\"What's the name of the city you grew up in?\\n\") #2\n",
    "pet = input(\"What's your pet's name?\\n\") #3\n",
    "print(\"Your band name could be \" + street + \" \" + pet) #4"
   ]
  },
  {
   "cell_type": "code",
   "execution_count": null,
   "id": "a32e32c3",
   "metadata": {},
   "outputs": [],
   "source": []
  }
 ],
 "metadata": {
  "kernelspec": {
   "display_name": "Python 3 (ipykernel)",
   "language": "python",
   "name": "python3"
  },
  "language_info": {
   "codemirror_mode": {
    "name": "ipython",
    "version": 3
   },
   "file_extension": ".py",
   "mimetype": "text/x-python",
   "name": "python",
   "nbconvert_exporter": "python",
   "pygments_lexer": "ipython3",
   "version": "3.9.12"
  }
 },
 "nbformat": 4,
 "nbformat_minor": 5
}
