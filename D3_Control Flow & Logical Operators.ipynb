{
 "cells": [
  {
   "cell_type": "markdown",
   "id": "dc0b6992",
   "metadata": {},
   "source": [
    "### Introduction to the if Statement"
   ]
  },
  {
   "cell_type": "markdown",
   "id": "f3106fda",
   "metadata": {},
   "source": [
    "We’ll start by looking at the most basic type of if statement. In its simplest form, it looks like this:"
   ]
  },
  {
   "cell_type": "code",
   "execution_count": 19,
   "id": "dac18704",
   "metadata": {},
   "outputs": [
    {
     "ename": "SyntaxError",
     "evalue": "invalid syntax (3718339184.py, line 17)",
     "output_type": "error",
     "traceback": [
      "\u001b[1;36m  Input \u001b[1;32mIn [19]\u001b[1;36m\u001b[0m\n\u001b[1;33m    or equal to 1,it is not prime\u001b[0m\n\u001b[1;37m    ^\u001b[0m\n\u001b[1;31mSyntaxError\u001b[0m\u001b[1;31m:\u001b[0m invalid syntax\n"
     ]
    }
   ],
   "source": [
    "num = 88\n",
    "\n",
    "# To take input from the user\n",
    "# num = int(input(\"Enter a number: \"))\n",
    "\n",
    "# prime numbers are greater than 1\n",
    "if num > 1 or equal to 1,it is not prime:\n",
    "    # check for factors\n",
    "    for i in range(2, num):\n",
    "        if (num % i) == 0:\n",
    "            print(num, \"is not a prime number\")\n",
    "            break\n",
    "    else:\n",
    "        print(num, \"is a prime number\")\n",
    "\n",
    "#if the input number is less than\n",
    "else:\n",
    "    print(num, \"is not a prime number\")"
   ]
  },
  {
   "cell_type": "raw",
   "id": "437e30b0",
   "metadata": {},
   "source": [
    "if <expr>:\n",
    "    <statement>"
   ]
  },
  {
   "cell_type": "raw",
   "id": "5fdefcc2",
   "metadata": {},
   "source": [
    "In the form shown above:\n",
    "\n",
    "<expr> is an expression evaluated in a Boolean context.\n",
    "<statement> is a valid Python statement, which must be indented. (You will see why very soon.)"
   ]
  },
  {
   "cell_type": "raw",
   "id": "e9d84cff",
   "metadata": {},
   "source": [
    "If <expr> is true (evaluates to a value that is “truthy”), then <statement> is executed. If <expr> is false, then <statement> is skipped over and not executed.\n",
    "\n",
    "Note that the colon (:) following <expr> is required. Some programming languages require <expr> to be enclosed in parentheses, but Python does not."
   ]
  },
  {
   "cell_type": "code",
   "execution_count": 2,
   "id": "edde8488",
   "metadata": {},
   "outputs": [
    {
     "name": "stdout",
     "output_type": "stream",
     "text": [
      "yes\n",
      "yes\n",
      "yes\n",
      "yes\n"
     ]
    }
   ],
   "source": [
    "x = 0\n",
    "y = 5\n",
    "\n",
    "if x < y:                            # Truthy\n",
    "    print('yes')\n",
    "if y < x:                            # Falsy\n",
    "    print('yes')\n",
    "if x:                                # Falsy\n",
    "    print('yes')\n",
    "if y:                                # Truthy\n",
    "    print('yes')\n",
    "if x or y:                           # Truthy\n",
    "    print('yes')\n",
    "if x and y:                          # Falsy\n",
    "    print('yes')\n",
    "if 'aul' in 'grault':                # Truthy\n",
    "    print('yes')\n",
    "if 'quux' in ['foo', 'bar', 'baz']:  # Falsy\n",
    "    print('yes')"
   ]
  },
  {
   "cell_type": "code",
   "execution_count": 6,
   "id": "ad7a7844",
   "metadata": {},
   "outputs": [
    {
     "name": "stdout",
     "output_type": "stream",
     "text": [
      "After conditional\n"
     ]
    }
   ],
   "source": [
    "#Indentation matters\n",
    "if 'foo' in ['bar', 'baz', 'qux']:\n",
    "    print('Expression was true')\n",
    "    print('Executing statement in suite')\n",
    "    print('...')\n",
    "    print('Done.')\n",
    "print('After conditional')"
   ]
  },
  {
   "cell_type": "markdown",
   "id": "aed02955",
   "metadata": {},
   "source": [
    "Note: In the Python documentation, a group of statements defined by indentation is often referred to as a suite. This tutorial series uses the terms block and suite interchangeably."
   ]
  },
  {
   "cell_type": "code",
   "execution_count": 4,
   "id": "3d4eeaf5",
   "metadata": {},
   "outputs": [
    {
     "name": "stdout",
     "output_type": "stream",
     "text": [
      "Outer condition is true\n",
      "Between inner conditions\n",
      "Inner condition 2\n",
      "End of outer condition\n",
      "After outer condition\n"
     ]
    }
   ],
   "source": [
    "# Does line execute?                        Yes    No\n",
    "#                                           ---    --\n",
    "if 'foo' in ['foo', 'bar', 'baz']:        #  x\n",
    "    print('Outer condition is true')      #  x\n",
    "\n",
    "    if 10 > 20:                           #  x\n",
    "        print('Inner condition 1')        #        x\n",
    "\n",
    "    print('Between inner conditions')     #  x\n",
    "\n",
    "    if 10 < 20:                           #  x\n",
    "        print('Inner condition 2')        #  x\n",
    "\n",
    "    print('End of outer condition')       #  x\n",
    "print('After outer condition')            #  x"
   ]
  },
  {
   "cell_type": "markdown",
   "id": "21a24c73",
   "metadata": {},
   "source": [
    "### The else and elif Clauses"
   ]
  },
  {
   "cell_type": "markdown",
   "id": "d709619b",
   "metadata": {},
   "source": [
    "Sometimes, you want to evaluate a condition and take one path if it is true but specify an alternative path if it is not. This is accomplished with an else clause:"
   ]
  },
  {
   "cell_type": "raw",
   "id": "4b1b4a10",
   "metadata": {},
   "source": [
    "if <expr>:\n",
    "    <statement(s)>\n",
    "else:\n",
    "    <statement(s)>\n",
    "If <expr> is true, the first suite is executed, and the second is skipped. If <expr> is false, the first suite is skipped and the second is executed. Either way, execution then resumes after the second suite. "
   ]
  },
  {
   "cell_type": "code",
   "execution_count": 7,
   "id": "ef002fe2",
   "metadata": {},
   "outputs": [
    {
     "name": "stdout",
     "output_type": "stream",
     "text": [
      "(second suite)\n",
      "x is large\n"
     ]
    }
   ],
   "source": [
    ">>> x = 60\n",
    "\n",
    ">>> if x < 50:\n",
    "...     print('(first suite)')\n",
    "...     print('x is small')\n",
    "... else:\n",
    "...     print('(second suite)')\n",
    "...     print('x is large')\n"
   ]
  },
  {
   "cell_type": "code",
   "execution_count": 7,
   "id": "ec90363e",
   "metadata": {},
   "outputs": [
    {
     "name": "stdout",
     "output_type": "stream",
     "text": [
      "(second suite)\n",
      "x is large\n"
     ]
    }
   ],
   "source": [
    ">>> x = 120\n",
    ">>>\n",
    ">>> if x < 50:\n",
    "...     print('(first suite)')\n",
    "...     print('x is small')\n",
    "... else:\n",
    "...     print('(second suite)')\n",
    "...     print('x is large')"
   ]
  },
  {
   "cell_type": "raw",
   "id": "274e3a94",
   "metadata": {},
   "source": [
    "if <expr>:\n",
    "    <statement(s)>\n",
    "elif <expr>:\n",
    "    <statement(s)>\n",
    "elif <expr>:\n",
    "    <statement(s)>\n",
    "    ...\n",
    "else:\n",
    "    <statement(s)>"
   ]
  },
  {
   "cell_type": "code",
   "execution_count": 9,
   "id": "2dd4f1eb",
   "metadata": {},
   "outputs": [
    {
     "name": "stdout",
     "output_type": "stream",
     "text": [
      "I don't know who you are!\n"
     ]
    }
   ],
   "source": [
    ">>> name = 'Joe'\n",
    ">>> if name == 'Fred':\n",
    "...     print('Hello Fred')\n",
    "... elif name == 'Xander':\n",
    "...     print('Hello Xander')\n",
    "... elif name == 'Asif':\n",
    "...     print('Hello Joe')\n",
    "... elif name == 'Arnold':\n",
    "...     print('Hello Arnold')#One-Line if Statements\n",
    "... else:\n",
    "...     print(\"I don't know who you are!\")"
   ]
  },
  {
   "cell_type": "markdown",
   "id": "a7c1c178",
   "metadata": {},
   "source": [
    "At most, one of the code blocks specified will be executed. If an else clause isn’t included, and all the conditions are false, then none of the blocks will be executed."
   ]
  },
  {
   "cell_type": "markdown",
   "id": "8af50780",
   "metadata": {},
   "source": [
    "An if statement with elif clauses uses short-circuit evaluation, analogous to what you saw with the and and or operators. Once one of the expressions is found to be true and its block is executed, none of the remaining expressions are tested. This is demonstrated below:"
   ]
  },
  {
   "cell_type": "code",
   "execution_count": 12,
   "id": "2dfcd43e",
   "metadata": {},
   "outputs": [
    {
     "name": "stdout",
     "output_type": "stream",
     "text": [
      "This won't happen 1/1\n"
     ]
    }
   ],
   "source": [
    ">>> var=2\n",
    "if 'z' in 'bar':\n",
    "...     print('foo')\n",
    "... elif 1:\n",
    "...     print(\"This won't happen 1/1\")\n",
    "... elif var:\n",
    "...     print(\"This won't either\")"
   ]
  },
  {
   "cell_type": "markdown",
   "id": "5420f3ed",
   "metadata": {},
   "source": [
    "The second expression contains a division by zero, and the third references an undefined variable var. Either would raise an error, but neither is evaluated because the first condition specified is true."
   ]
  },
  {
   "cell_type": "markdown",
   "id": "e7f6148e",
   "metadata": {},
   "source": [
    "### One-Line if Statements"
   ]
  },
  {
   "cell_type": "markdown",
   "id": "8745972a",
   "metadata": {},
   "source": [
    "It is customary to write if <expr> on one line and <statement> indented on the following line like this:\n"
   ]
  },
  {
   "cell_type": "raw",
   "id": "03698553",
   "metadata": {},
   "source": [
    "if <expr>:\n",
    "    <statement>"
   ]
  },
  {
   "cell_type": "markdown",
   "id": "5cef244a",
   "metadata": {},
   "source": [
    "But it is permissible to write an entire if statement on one line. The following is functionally equivalent to the example above:"
   ]
  },
  {
   "cell_type": "raw",
   "id": "ca468e3c",
   "metadata": {},
   "source": [
    "if <expr>: <statement>"
   ]
  },
  {
   "cell_type": "markdown",
   "id": "ed59bb4b",
   "metadata": {},
   "source": [
    "There can even be more than one <statement> on the same line, separated by semicolons:"
   ]
  },
  {
   "cell_type": "raw",
   "id": "128e9bc4",
   "metadata": {},
   "source": [
    "if <expr>: <statement_1>; <statement_2>; ...; <statement_n>"
   ]
  },
  {
   "cell_type": "raw",
   "id": "3f6ace75",
   "metadata": {},
   "source": [
    "Python Conditions and If statements\n",
    "Python supports the usual logical conditions from mathematics:\n",
    "\n",
    "Equals: a == b\n",
    "Not Equals: a != b\n",
    "Less than: a < b\n",
    "Less than or equal to: a <= b\n",
    "Greater than: a > b\n",
    "Greater than or equal to: a >= b\n",
    "These conditions can be used in several ways, most commonly in \"if statements\" and loops.\n",
    "\n",
    "An \"if statement\" is written by using the if keyword."
   ]
  },
  {
   "cell_type": "raw",
   "id": "3602386e",
   "metadata": {},
   "source": [
    "Elif\n",
    "The elif keyword is pythons way of saying \"if the previous conditions were not true, then try this condition\"."
   ]
  },
  {
   "cell_type": "raw",
   "id": "eba60361",
   "metadata": {},
   "source": [
    "Else\n",
    "The else keyword catches anything which isn't caught by the preceding conditions."
   ]
  },
  {
   "cell_type": "raw",
   "id": "371d75d1",
   "metadata": {},
   "source": [
    "And\n",
    "The and keyword is a logical operator, and is used to combine conditional statements:"
   ]
  },
  {
   "cell_type": "raw",
   "id": "490317b5",
   "metadata": {},
   "source": [
    "Or\n",
    "The or keyword is a logical operator, and is used to combine conditional statements:"
   ]
  },
  {
   "cell_type": "raw",
   "id": "62eb0b03",
   "metadata": {},
   "source": [
    "Nested If\n",
    "You can have if statements inside if statements, this is called nested if statements."
   ]
  },
  {
   "cell_type": "code",
   "execution_count": 16,
   "id": "7887e88e",
   "metadata": {},
   "outputs": [],
   "source": [
    "x=125\n",
    "if x > 10:\n",
    "    pass"
   ]
  },
  {
   "cell_type": "raw",
   "id": "87b2019f",
   "metadata": {},
   "source": [
    "The pass Statement\n",
    "if statements cannot be empty, but if you for some reason have an if statement with no content, put in the pass statement to avoid getting an error."
   ]
  }
 ],
 "metadata": {
  "kernelspec": {
   "display_name": "Python 3 (ipykernel)",
   "language": "python",
   "name": "python3"
  },
  "language_info": {
   "codemirror_mode": {
    "name": "ipython",
    "version": 3
   },
   "file_extension": ".py",
   "mimetype": "text/x-python",
   "name": "python",
   "nbconvert_exporter": "python",
   "pygments_lexer": "ipython3",
   "version": "3.9.12"
  }
 },
 "nbformat": 4,
 "nbformat_minor": 5
}
