{
 "cells": [
  {
   "cell_type": "markdown",
   "id": "36208e67",
   "metadata": {},
   "source": [
    "Instructions\n",
    "If the bill was $150.00, split between 5 people, with 12% tip.\n",
    "\n",
    "Each person should pay (150.00 / 5) * 1.12 = 33.6\n",
    "\n",
    "Format the result to 2 decimal places = 33.60\n",
    "\n",
    "Thus everyone's share of the total bill is $30.00 plus a $3.60 tip.\n",
    "\n",
    "Tip: There are 2 ways to round a number. You might have to do some Googling to solve this.💪"
   ]
  },
  {
   "cell_type": "raw",
   "id": "a477915f",
   "metadata": {},
   "source": [
    "Example Input\n",
    "Welcome to the tip calculator!\n",
    "What was the total bill? $124.56\n",
    "How much tip would you like to give? 10, 12, or 15? 12\n",
    "How many people to split the bill? 7"
   ]
  },
  {
   "cell_type": "raw",
   "id": "358bd339",
   "metadata": {},
   "source": [
    "Example Output\n",
    "Each person should pay: $19.93"
   ]
  },
  {
   "cell_type": "code",
   "execution_count": 1,
   "id": "52a951d3",
   "metadata": {},
   "outputs": [
    {
     "name": "stdout",
     "output_type": "stream",
     "text": [
      "Welcome to the tip calculator!\n",
      "What was the total bill? $124.56\n",
      "How much tip would you like to give? 10, 12, or 15? 12\n",
      "How many people to split the bill?7\n",
      "Each person should pay: $19.93\n"
     ]
    }
   ],
   "source": [
    "#If the bill was $150.00, split between 5 people, with 12% tip. \n",
    "#Each person should pay (150.00 / 5) * 1.12 = 33.6\n",
    "#Round the result to 2 decimal places.\n",
    "print(\"Welcome to the tip calculator!\")\n",
    "bill = float(input(\"What was the total bill? $\"))\n",
    "tip = int(input(\"How much tip would you like to give? 10, 12, or 15? \"))\n",
    "people = int(input(\"How many people to split the bill?\"))\n",
    "\n",
    "tip_as_percent = tip / 100\n",
    "total_tip_amount = bill * tip_as_percent\n",
    "total_bill = bill + total_tip_amount\n",
    "bill_per_person = total_bill / people\n",
    "final_amount = round(bill_per_person, 2)\n",
    "\n",
    "print(f\"Each person should pay: ${final_amount}\")"
   ]
  },
  {
   "cell_type": "code",
   "execution_count": null,
   "id": "49479e07",
   "metadata": {},
   "outputs": [],
   "source": []
  }
 ],
 "metadata": {
  "kernelspec": {
   "display_name": "Python 3 (ipykernel)",
   "language": "python",
   "name": "python3"
  },
  "language_info": {
   "codemirror_mode": {
    "name": "ipython",
    "version": 3
   },
   "file_extension": ".py",
   "mimetype": "text/x-python",
   "name": "python",
   "nbconvert_exporter": "python",
   "pygments_lexer": "ipython3",
   "version": "3.9.12"
  }
 },
 "nbformat": 4,
 "nbformat_minor": 5
}
