{
 "cells": [
  {
   "cell_type": "markdown",
   "id": "03680fb7",
   "metadata": {},
   "source": [
    "# Control Structures in Python"
   ]
  },
  {
   "cell_type": "markdown",
   "id": "94d81847",
   "metadata": {},
   "source": [
    "Control structures in Python are programming constructs that determine the flow of execution in a program. "
   ]
  },
  {
   "cell_type": "markdown",
   "id": "113745ae",
   "metadata": {},
   "source": [
    "They help you make decisions, repeat actions, and manage the flow of your code. Python supports several control structures, including:"
   ]
  },
  {
   "cell_type": "markdown",
   "id": "41d311ce",
   "metadata": {},
   "source": [
    "##### Conditional Statements:"
   ]
  },
  {
   "cell_type": "markdown",
   "id": "0fff34bf",
   "metadata": {},
   "source": [
    "###### if"
   ]
  },
  {
   "cell_type": "markdown",
   "id": "26ad2669",
   "metadata": {},
   "source": [
    "Allows you to execute a block of code if a certain condition is true."
   ]
  },
  {
   "cell_type": "raw",
   "id": "60106e17",
   "metadata": {},
   "source": [
    "if condition:\n",
    "    # code to execute if condition is true\n"
   ]
  },
  {
   "cell_type": "code",
   "execution_count": 1,
   "id": "fa4bc695",
   "metadata": {},
   "outputs": [
    {
     "name": "stdout",
     "output_type": "stream",
     "text": [
      "yes\n",
      "yes\n",
      "yes\n",
      "yes\n"
     ]
    }
   ],
   "source": [
    "x = 0\n",
    "y = 5\n",
    "\n",
    "if x < y:                            # Truthy\n",
    "    print('yes')\n",
    "if y < x:                            # Falsy\n",
    "    print('yes')\n",
    "if x:                                # Falsy\n",
    "    print('yes')\n",
    "if y:                                # Truthy\n",
    "    print('yes')\n",
    "if x or y:                           # Truthy\n",
    "    print('yes')\n",
    "if x and y:                          # Falsy\n",
    "    print('yes')\n",
    "if 'aul' in 'grault':                # Truthy\n",
    "    print('yes')\n",
    "if 'quux' in ['foo', 'bar', 'baz']:  # Falsy\n",
    "    print('yes')"
   ]
  },
  {
   "cell_type": "code",
   "execution_count": 2,
   "id": "45f16eb6",
   "metadata": {},
   "outputs": [
    {
     "name": "stdout",
     "output_type": "stream",
     "text": [
      "Expression was true\n",
      "Executing statement in suite\n",
      "...\n",
      "Done.\n",
      "After conditional\n"
     ]
    }
   ],
   "source": [
    "#Indentation matters\n",
    "if 'baz' in ['bar', 'baz', 'qux']:\n",
    "print('Expression was true')\n",
    "    print('Executing statement in suite')\n",
    "print('...')\n",
    "print('Done.')\n",
    "print('After conditional')"
   ]
  },
  {
   "cell_type": "code",
   "execution_count": 3,
   "id": "f39e259f",
   "metadata": {},
   "outputs": [
    {
     "name": "stdout",
     "output_type": "stream",
     "text": [
      "Outer condition is true\n",
      "Inner condition 1-first child\n",
      "Between inner conditions\n",
      "End of outer condition\n",
      "After outer condition\n"
     ]
    }
   ],
   "source": [
    "# Does line execute?                        Yes    No\n",
    "#                                           ---    --\n",
    "if 'foo' in ['foo', 'bar', 'baz']:        #  x\n",
    "    print('Outer condition is true')      #  x\n",
    "\n",
    "    if 10 < 20:                           #  x\n",
    "        print('Inner condition 1-first child')        #        x\n",
    "\n",
    "    print('Between inner conditions')     #  x\n",
    "\n",
    "    if 10 == 20:                           #  x\n",
    "        print('Inner condition 2')        #  x\n",
    "\n",
    "    print('End of outer condition')       #  x\n",
    "print('After outer condition')            #  x"
   ]
  },
  {
   "cell_type": "markdown",
   "id": "108a2d43",
   "metadata": {},
   "source": [
    "###### elif (short for \"else if\")"
   ]
  },
  {
   "cell_type": "markdown",
   "id": "535f534d",
   "metadata": {},
   "source": [
    "Used in conjunction with if to provide multiple condition checks."
   ]
  },
  {
   "cell_type": "raw",
   "id": "fd310f0a",
   "metadata": {},
   "source": [
    "if condition1:\n",
    "    # code to execute if condition1 is true\n",
    "elif condition2:\n",
    "    # code to execute if condition2 is true\n",
    "else:\n",
    "    # code to execute if no conditions are true"
   ]
  },
  {
   "cell_type": "code",
   "execution_count": 4,
   "id": "486d48ff",
   "metadata": {},
   "outputs": [
    {
     "name": "stdout",
     "output_type": "stream",
     "text": [
      "(second suite)\n",
      "x is large\n"
     ]
    }
   ],
   "source": [
    "x = 60\n",
    "\n",
    "if x < 50:\n",
    "    print('(first suite)')\n",
    "    print('x is small')\n",
    "else:\n",
    "     print('(second suite)')\n",
    "     print('x is large')"
   ]
  },
  {
   "cell_type": "code",
   "execution_count": 1,
   "id": "f6b00d54",
   "metadata": {},
   "outputs": [
    {
     "name": "stdout",
     "output_type": "stream",
     "text": [
      "Enter a number: 7\n",
      "The number is positive.\n"
     ]
    }
   ],
   "source": [
    "#Checking if a number is positive or negative:\n",
    "num = int(input(\"Enter a number: \"))\n",
    "if num > 0:\n",
    "    print(\"The number is positive.\")\n",
    "elif num < 0:\n",
    "    print(\"The number is negative.\")\n",
    "else:\n",
    "    print(\"The number is zero.\")\n"
   ]
  },
  {
   "cell_type": "code",
   "execution_count": null,
   "id": "bc4d6dd3",
   "metadata": {},
   "outputs": [],
   "source": [
    "name = 'Ram'\n",
    "if name == 'Mani':\n",
    "     print('Hello Mani')\n",
    "elif name == 'Murali':\n",
    "     print('Hello Murali')\n",
    "elif name == 'Jordan':\n",
    "     print('Hello Jordan')\n",
    "elif name == 'Ram':\n",
    "     print('Hello Ram')\n",
    "else:\n",
    "     print(\"I don't know who you are!\")"
   ]
  },
  {
   "cell_type": "markdown",
   "id": "cca09d22",
   "metadata": {},
   "source": [
    "##### Loops:"
   ]
  },
  {
   "cell_type": "markdown",
   "id": "b81c0d0d",
   "metadata": {},
   "source": [
    "###### for"
   ]
  },
  {
   "cell_type": "markdown",
   "id": "08005def",
   "metadata": {},
   "source": [
    "Iterates over a sequence (e.g., a list, tuple, string, or range) and executes a block of code for each item in the sequence."
   ]
  },
  {
   "cell_type": "raw",
   "id": "4f814a9f",
   "metadata": {},
   "source": [
    "for item in sequence:\n",
    "    # code to execute for each item\n"
   ]
  },
  {
   "cell_type": "code",
   "execution_count": 2,
   "id": "e66715e1",
   "metadata": {},
   "outputs": [
    {
     "name": "stdout",
     "output_type": "stream",
     "text": [
      "1\n",
      "2\n",
      "3\n",
      "4\n",
      "5\n"
     ]
    }
   ],
   "source": [
    "#Iterating through a list and printing its elements:\n",
    "my_list = [1, 2, 3, 4, 5]\n",
    "for item in my_list:\n",
    "    print(item)"
   ]
  },
  {
   "cell_type": "code",
   "execution_count": 5,
   "id": "3c75aaa7",
   "metadata": {},
   "outputs": [
    {
     "name": "stdout",
     "output_type": "stream",
     "text": [
      "R\n",
      "a\n",
      "m\n",
      "b\n",
      "a\n",
      "b\n",
      "u\n",
      " \n",
      "K\n",
      "a\n",
      "t\n",
      "r\n",
      "a\n",
      "g\n",
      "a\n",
      "d\n",
      "d\n",
      "a\n"
     ]
    }
   ],
   "source": [
    "for x in \"Rambabu Katragadda\":\n",
    "  print(x)"
   ]
  },
  {
   "cell_type": "code",
   "execution_count": 9,
   "id": "20a23cdd",
   "metadata": {},
   "outputs": [
    {
     "name": "stdout",
     "output_type": "stream",
     "text": [
      "0\n",
      "1\n",
      "2\n",
      "3\n",
      "4\n",
      "5\n"
     ]
    }
   ],
   "source": [
    "for x in range(6):\n",
    "  print(x)"
   ]
  },
  {
   "cell_type": "code",
   "execution_count": 10,
   "id": "71f933f4",
   "metadata": {},
   "outputs": [
    {
     "name": "stdout",
     "output_type": "stream",
     "text": [
      "2\n",
      "3\n",
      "4\n",
      "5\n"
     ]
    }
   ],
   "source": [
    "for x in range(2, 6):#starting parameters ....#2,3,4,5\n",
    "  print(x)"
   ]
  },
  {
   "cell_type": "code",
   "execution_count": 11,
   "id": "c91cf745",
   "metadata": {},
   "outputs": [
    {
     "name": "stdout",
     "output_type": "stream",
     "text": [
      "2\n",
      "5\n",
      "8\n",
      "11\n",
      "14\n",
      "17\n",
      "20\n",
      "23\n",
      "26\n",
      "29\n"
     ]
    }
   ],
   "source": [
    "for x in range(2, 30, 3):#Increment the sequence with 3 \n",
    "  print(x)"
   ]
  },
  {
   "cell_type": "code",
   "execution_count": 12,
   "id": "24d871d5",
   "metadata": {},
   "outputs": [
    {
     "name": "stdout",
     "output_type": "stream",
     "text": [
      "0\n",
      "1\n",
      "2\n",
      "3\n",
      "4\n",
      "5\n",
      "Finally finished!\n"
     ]
    }
   ],
   "source": [
    "#The else keyword in a for loop specifies a block of code to be executed when the loop is finished:\n",
    "for x in range(6):\n",
    "  print(x)\n",
    "else:\n",
    "  print(\"Finally finished!\")"
   ]
  },
  {
   "cell_type": "markdown",
   "id": "1cb09f54",
   "metadata": {},
   "source": [
    "###### while"
   ]
  },
  {
   "cell_type": "markdown",
   "id": "8c54dbf6",
   "metadata": {},
   "source": [
    "Repeats a block of code as long as a certain condition is true."
   ]
  },
  {
   "cell_type": "raw",
   "id": "4a00b8d9",
   "metadata": {},
   "source": [
    "while condition:\n",
    "    # code to execute while the condition is true\n"
   ]
  },
  {
   "cell_type": "code",
   "execution_count": 3,
   "id": "d40fc2c2",
   "metadata": {},
   "outputs": [
    {
     "name": "stdout",
     "output_type": "stream",
     "text": [
      "Enter a number: a\n",
      "Invalid input. Please enter a number.\n",
      "Enter a number: h\n",
      "Invalid input. Please enter a number.\n",
      "Enter a number: 1\n"
     ]
    }
   ],
   "source": [
    "#Repeatedly asking for user input until a valid input is provided:\n",
    "while True:\n",
    "    user_input = input(\"Enter a number: \")\n",
    "    if user_input.isdigit():\n",
    "        break\n",
    "    else:\n",
    "        print(\"Invalid input. Please enter a number.\")"
   ]
  },
  {
   "cell_type": "code",
   "execution_count": 6,
   "id": "b39773af",
   "metadata": {},
   "outputs": [
    {
     "name": "stdout",
     "output_type": "stream",
     "text": [
      "1\n",
      "2\n",
      "3\n",
      "4\n",
      "5\n"
     ]
    }
   ],
   "source": [
    "i = 1\n",
    "while i < 6:\n",
    "  print(i)\n",
    "  i += 1"
   ]
  },
  {
   "cell_type": "markdown",
   "id": "458f957b",
   "metadata": {},
   "source": [
    "###### break"
   ]
  },
  {
   "cell_type": "markdown",
   "id": "1036ec8e",
   "metadata": {},
   "source": [
    "Terminates the nearest enclosing loop (e.g., for or while) prematurely."
   ]
  },
  {
   "cell_type": "raw",
   "id": "66585f23",
   "metadata": {},
   "source": [
    "for item in sequence:\n",
    "    if condition:\n",
    "        break\n"
   ]
  },
  {
   "cell_type": "code",
   "execution_count": 4,
   "id": "bec80892",
   "metadata": {},
   "outputs": [
    {
     "name": "stdout",
     "output_type": "stream",
     "text": [
      "1\n",
      "2\n",
      "3\n",
      "4\n"
     ]
    }
   ],
   "source": [
    "#Exiting a loop early if a specific condition is met:\n",
    "for num in range(1, 11):\n",
    "    if num == 5:\n",
    "        break\n",
    "    print(num)"
   ]
  },
  {
   "cell_type": "code",
   "execution_count": 7,
   "id": "9815676a",
   "metadata": {},
   "outputs": [
    {
     "name": "stdout",
     "output_type": "stream",
     "text": [
      "1\n",
      "2\n",
      "3\n"
     ]
    }
   ],
   "source": [
    "i = 1\n",
    "while i < 6:\n",
    "  print(i)\n",
    "  if i == 3:\n",
    "    break\n",
    "  i += 1"
   ]
  },
  {
   "cell_type": "markdown",
   "id": "a22bed6d",
   "metadata": {},
   "source": [
    "###### continue"
   ]
  },
  {
   "cell_type": "markdown",
   "id": "5e0ead82",
   "metadata": {},
   "source": [
    "Skips the rest of the current iteration and moves to the next iteration of a loop."
   ]
  },
  {
   "cell_type": "raw",
   "id": "5ebfccc2",
   "metadata": {},
   "source": [
    "for item in sequence:\n",
    "    if condition:\n",
    "        continue\n",
    "    # code here will be skipped if condition is true"
   ]
  },
  {
   "cell_type": "code",
   "execution_count": 5,
   "id": "dc0bae54",
   "metadata": {},
   "outputs": [
    {
     "name": "stdout",
     "output_type": "stream",
     "text": [
      "1\n",
      "3\n",
      "5\n",
      "7\n",
      "9\n"
     ]
    }
   ],
   "source": [
    "#Skipping even numbers in a loop:\n",
    "for num in range(1, 11):\n",
    "    if num % 2 == 0:\n",
    "        continue\n",
    "    print(num)"
   ]
  },
  {
   "cell_type": "code",
   "execution_count": 8,
   "id": "d6a74cfa",
   "metadata": {},
   "outputs": [
    {
     "name": "stdout",
     "output_type": "stream",
     "text": [
      "1\n",
      "2\n",
      "4\n",
      "5\n",
      "6\n",
      "Out of loop\n"
     ]
    }
   ],
   "source": [
    "i = 0\n",
    "while i < 6: #1,2,3,4,5,6\n",
    "  i += 1     #2,3,4,5,6\n",
    "  if i == 3:\n",
    "    continue\n",
    "  print(i)\n",
    "print(\"Out of loop\")"
   ]
  },
  {
   "cell_type": "markdown",
   "id": "3e49c53f",
   "metadata": {},
   "source": [
    "##### Control Flow Statements:"
   ]
  },
  {
   "cell_type": "markdown",
   "id": "f83261a7",
   "metadata": {},
   "source": [
    "###### pass"
   ]
  },
  {
   "cell_type": "markdown",
   "id": "9293e737",
   "metadata": {},
   "source": [
    "Acts as a placeholder and does nothing. It's often used when you need a valid code block but don't want to implement anything yet."
   ]
  },
  {
   "cell_type": "raw",
   "id": "fb1961c4",
   "metadata": {},
   "source": [
    "if condition:\n",
    "    pass  # Placeholder code"
   ]
  },
  {
   "cell_type": "code",
   "execution_count": 6,
   "id": "87d8c361",
   "metadata": {},
   "outputs": [],
   "source": [
    "#Creating a placeholder function:\n",
    "def some_function():\n",
    "    pass  # Placeholder for implementation"
   ]
  },
  {
   "cell_type": "markdown",
   "id": "16cd8c9f",
   "metadata": {},
   "source": [
    "###### return"
   ]
  },
  {
   "cell_type": "markdown",
   "id": "028760ae",
   "metadata": {},
   "source": [
    "Exits a function and optionally returns a value."
   ]
  },
  {
   "cell_type": "raw",
   "id": "1445de85",
   "metadata": {},
   "source": [
    "def my_function():\n",
    "    # code here\n",
    "    return value  # optional"
   ]
  },
  {
   "cell_type": "code",
   "execution_count": 7,
   "id": "38adb3f5",
   "metadata": {},
   "outputs": [],
   "source": [
    "#Calculating the sum of two numbers and returning the result:\n",
    "def add_numbers(a, b):\n",
    "    result = a + b\n",
    "    return result"
   ]
  },
  {
   "cell_type": "markdown",
   "id": "846d7d65",
   "metadata": {},
   "source": [
    "##### raise"
   ]
  },
  {
   "cell_type": "markdown",
   "id": "801184a4",
   "metadata": {},
   "source": [
    "Raises an exception manually."
   ]
  },
  {
   "cell_type": "raw",
   "id": "b954fcd3",
   "metadata": {},
   "source": [
    "if condition:\n",
    "    raise Exception(\"This is an exception message\")\n"
   ]
  },
  {
   "cell_type": "code",
   "execution_count": 8,
   "id": "a1ac04db",
   "metadata": {},
   "outputs": [],
   "source": [
    "#Raising a custom exception when a condition is not met:\n",
    "def divide(a, b):\n",
    "    if b == 0:\n",
    "        raise ValueError(\"Division by zero is not allowed.\")\n",
    "    return a / b"
   ]
  },
  {
   "cell_type": "markdown",
   "id": "930b7b2d",
   "metadata": {},
   "source": [
    "These control structures allow you to create programs that can make decisions, repeat tasks, and respond to different conditions, making your code more flexible and powerful. "
   ]
  },
  {
   "cell_type": "markdown",
   "id": "f8f980dc",
   "metadata": {},
   "source": [
    "Depending on the situation, you'll choose the appropriate control structure to control the flow of your Python program."
   ]
  }
 ],
 "metadata": {
  "kernelspec": {
   "display_name": "Python 3 (ipykernel)",
   "language": "python",
   "name": "python3"
  },
  "language_info": {
   "codemirror_mode": {
    "name": "ipython",
    "version": 3
   },
   "file_extension": ".py",
   "mimetype": "text/x-python",
   "name": "python",
   "nbconvert_exporter": "python",
   "pygments_lexer": "ipython3",
   "version": "3.9.12"
  }
 },
 "nbformat": 4,
 "nbformat_minor": 5
}
