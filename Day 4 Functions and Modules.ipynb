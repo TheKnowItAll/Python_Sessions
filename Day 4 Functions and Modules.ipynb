{
 "cells": [
  {
   "cell_type": "markdown",
   "id": "74f24f4e",
   "metadata": {},
   "source": [
    "# Functions in Python"
   ]
  },
  {
   "cell_type": "markdown",
   "id": "10358f2a",
   "metadata": {},
   "source": [
    "Functions are blocks of reusable code that perform a specific task or set of tasks."
   ]
  },
  {
   "cell_type": "markdown",
   "id": "c11fa0a0",
   "metadata": {},
   "source": [
    "Here's how you define and use functions in Python:"
   ]
  },
  {
   "cell_type": "markdown",
   "id": "81f718a1",
   "metadata": {},
   "source": [
    "Functions are a fundamental concept in Python and are used extensively in Python programming to encapsulate and reuse code. They enable you to write cleaner, more modular, and more maintainable code."
   ]
  },
  {
   "cell_type": "markdown",
   "id": "0f240c6f",
   "metadata": {},
   "source": [
    "## Function Definition:"
   ]
  },
  {
   "cell_type": "markdown",
   "id": "f4e942a0",
   "metadata": {},
   "source": [
    "To define a function, you use the def keyword followed by the function name, a pair of parentheses (), and a colon : to indicate the start of the function's code block."
   ]
  },
  {
   "cell_type": "markdown",
   "id": "5cec73ab",
   "metadata": {},
   "source": [
    "The function name should follow the same naming rules as variable names."
   ]
  },
  {
   "cell_type": "code",
   "execution_count": 1,
   "id": "48db9529",
   "metadata": {},
   "outputs": [],
   "source": [
    "def greet(name):\n",
    "    print(f\"Hello, {name}!\")"
   ]
  },
  {
   "cell_type": "markdown",
   "id": "2bf772dc",
   "metadata": {},
   "source": [
    "## Function Parameters:"
   ]
  },
  {
   "cell_type": "markdown",
   "id": "3b6fd63c",
   "metadata": {},
   "source": [
    "Inside the parentheses, you can define parameters (also known as arguments) that the function can accept."
   ]
  },
  {
   "cell_type": "markdown",
   "id": "375de805",
   "metadata": {},
   "source": [
    "Parameters allow you to pass data into the function for processing. In the example above, name is a parameter."
   ]
  },
  {
   "cell_type": "markdown",
   "id": "76bce38e",
   "metadata": {},
   "source": [
    "## Function Body:"
   ]
  },
  {
   "cell_type": "markdown",
   "id": "221751c3",
   "metadata": {},
   "source": [
    "The function body contains the code that gets executed when the function is called."
   ]
  },
  {
   "cell_type": "markdown",
   "id": "6afbfa6d",
   "metadata": {},
   "source": [
    "It is indented under the def statement and typically contains one or more statements."
   ]
  },
  {
   "cell_type": "markdown",
   "id": "35b4b4b0",
   "metadata": {},
   "source": [
    "## Function Call:"
   ]
  },
  {
   "cell_type": "markdown",
   "id": "760ce660",
   "metadata": {},
   "source": [
    "To use a function, you call it by using its name followed by parentheses, and you can pass arguments (values) for its parameters inside the parentheses."
   ]
  },
  {
   "cell_type": "code",
   "execution_count": 2,
   "id": "789222fa",
   "metadata": {},
   "outputs": [
    {
     "name": "stdout",
     "output_type": "stream",
     "text": [
      "Hello, Ram!\n"
     ]
    }
   ],
   "source": [
    "greet(\"Ram\")"
   ]
  },
  {
   "cell_type": "markdown",
   "id": "cc68abe8",
   "metadata": {},
   "source": [
    "## Return Statement:"
   ]
  },
  {
   "cell_type": "markdown",
   "id": "d612894b",
   "metadata": {},
   "source": [
    "Functions can return values using the return statement. When a function encounters a return statement, it immediately exits, and the specified value is returned to the caller."
   ]
  },
  {
   "cell_type": "code",
   "execution_count": 4,
   "id": "34e27959",
   "metadata": {},
   "outputs": [
    {
     "name": "stdout",
     "output_type": "stream",
     "text": [
      "7\n"
     ]
    }
   ],
   "source": [
    "def add(x, y):\n",
    "    result = x + y\n",
    "    return result\n",
    "\n",
    "sum_result = add(3, 4)\n",
    "print(sum_result)  # This will print 7"
   ]
  },
  {
   "cell_type": "markdown",
   "id": "bc9750d9",
   "metadata": {},
   "source": [
    "## Default Arguments:"
   ]
  },
  {
   "cell_type": "markdown",
   "id": "9973eaa7",
   "metadata": {},
   "source": [
    "You can assign default values to function parameters, allowing you to call the function without providing a value for that parameter if the default value is acceptable."
   ]
  },
  {
   "cell_type": "code",
   "execution_count": 5,
   "id": "223a95ca",
   "metadata": {},
   "outputs": [
    {
     "name": "stdout",
     "output_type": "stream",
     "text": [
      "Hello, Jordan!\n"
     ]
    }
   ],
   "source": [
    "def greet(name=\"Jordan\"):\n",
    "    print(f\"Hello, {name}!\")\n",
    "\n",
    "greet()  # This will print \"Hello, Guest!\""
   ]
  },
  {
   "cell_type": "markdown",
   "id": "03cc9c6c",
   "metadata": {},
   "source": [
    "## Docstrings:"
   ]
  },
  {
   "cell_type": "markdown",
   "id": "b31fc358",
   "metadata": {},
   "source": [
    "It's a good practice to include a docstring (a string enclosed in triple quotes) at the beginning of a function to describe its purpose, input parameters, and expected output."
   ]
  },
  {
   "cell_type": "code",
   "execution_count": 6,
   "id": "2ac60237",
   "metadata": {},
   "outputs": [
    {
     "data": {
      "text/plain": [
       "165"
      ]
     },
     "execution_count": 6,
     "metadata": {},
     "output_type": "execute_result"
    }
   ],
   "source": [
    "def add(x, y):\n",
    "    \"\"\"\n",
    "    This function adds two numbers and returns the result.\n",
    "    :param x: The first number.\n",
    "    :param y: The second number.\n",
    "    :return: The sum of x and y.\n",
    "    \"\"\"\n",
    "    result = x + y\n",
    "    return result\n",
    "\n",
    "add(67,98)"
   ]
  },
  {
   "cell_type": "markdown",
   "id": "1f5d6123",
   "metadata": {},
   "source": [
    "# Function Parameters and Function Arguments:"
   ]
  },
  {
   "cell_type": "markdown",
   "id": "924b0986",
   "metadata": {},
   "source": [
    "The terms \"function parameters\" and \"function arguments\" refer to different aspects of how functions work and interact with data. Let's explore the distinctions between these two concepts:"
   ]
  },
  {
   "cell_type": "markdown",
   "id": "77fb960a",
   "metadata": {},
   "source": [
    "## Function Parameters:"
   ]
  },
  {
   "cell_type": "markdown",
   "id": "bb904aba",
   "metadata": {},
   "source": [
    "Parameters are placeholders or variables defined in the function's declaration (when you define the function using def)."
   ]
  },
  {
   "cell_type": "markdown",
   "id": "54ae0ec3",
   "metadata": {},
   "source": [
    "They are used to specify what input the function expects."
   ]
  },
  {
   "cell_type": "markdown",
   "id": "ddfbf74b",
   "metadata": {},
   "source": [
    "Parameters are like variables that are local to the function and can be used within the function's body."
   ]
  },
  {
   "cell_type": "markdown",
   "id": "4414b1d4",
   "metadata": {},
   "source": [
    "When you define a function, you specify its parameters inside the parentheses. These parameters are also called \"formal parameters\" or \"formal arguments.\""
   ]
  },
  {
   "cell_type": "code",
   "execution_count": 7,
   "id": "1ca9b27b",
   "metadata": {},
   "outputs": [],
   "source": [
    "#In this example, name is a parameter.\n",
    "def greet(name):\n",
    "    print(f\"Hello, {name}!\")"
   ]
  },
  {
   "cell_type": "markdown",
   "id": "9006f620",
   "metadata": {},
   "source": [
    "## Function Arguments:"
   ]
  },
  {
   "cell_type": "markdown",
   "id": "50d3073f",
   "metadata": {},
   "source": [
    "Arguments are the actual values or expressions that you provide when you call a function."
   ]
  },
  {
   "cell_type": "markdown",
   "id": "7f9df853",
   "metadata": {},
   "source": [
    "These are the values that are passed into the function to be used with its parameters."
   ]
  },
  {
   "cell_type": "markdown",
   "id": "ebb263ed",
   "metadata": {},
   "source": [
    "Arguments are also called \"actual arguments\" or \"actual parameters.\""
   ]
  },
  {
   "cell_type": "code",
   "execution_count": 8,
   "id": "bb81601b",
   "metadata": {},
   "outputs": [
    {
     "name": "stdout",
     "output_type": "stream",
     "text": [
      "Hello, Ram!\n"
     ]
    }
   ],
   "source": [
    "#In this example, \"Ram\" is an argument passed to the greet function.\n",
    "greet(\"Ram\")"
   ]
  },
  {
   "cell_type": "markdown",
   "id": "8901c166",
   "metadata": {},
   "source": [
    "In summary, parameters are defined in the function's declaration and represent the input the function expects. \n",
    "\n",
    "When you call the function, you provide arguments, which are the actual values or expressions that are substituted for the parameters inside the function's body."
   ]
  },
  {
   "cell_type": "markdown",
   "id": "063c6f63",
   "metadata": {},
   "source": [
    "It's important to match the number and order of arguments to the parameters defined in the function. Python uses positional arguments, which means that the order of the arguments matters."
   ]
  },
  {
   "cell_type": "markdown",
   "id": "a95aabc5",
   "metadata": {},
   "source": [
    "## Keyword Arguments:"
   ]
  },
  {
   "cell_type": "markdown",
   "id": "013d2c67",
   "metadata": {},
   "source": [
    "You can also use keyword arguments to explicitly specify which parameter each argument corresponds to, regardless of their order. This can make function calls more readable and less error-prone."
   ]
  },
  {
   "cell_type": "code",
   "execution_count": 9,
   "id": "87656b12",
   "metadata": {},
   "outputs": [],
   "source": [
    "#In this example, x and y are parameters, and x=3 and y=4 are keyword arguments.\n",
    "def add(x, y):\n",
    "    return x + y\n",
    "\n",
    "result = add(x=3, y=4)  # Using keyword arguments"
   ]
  },
  {
   "cell_type": "markdown",
   "id": "7d9563e7",
   "metadata": {},
   "source": [
    "# Recursion"
   ]
  },
  {
   "cell_type": "markdown",
   "id": "b573bd1e",
   "metadata": {},
   "source": [
    "A recursive function is a function that calls itself in order to solve a problem. "
   ]
  },
  {
   "cell_type": "markdown",
   "id": "2c374c38",
   "metadata": {},
   "source": [
    "Recursion is a powerful technique that is often used to solve problems that can be broken down into smaller, similar subproblems. "
   ]
  },
  {
   "cell_type": "markdown",
   "id": "6d8dadbe",
   "metadata": {},
   "source": [
    "Recursive functions have two main components:"
   ]
  },
  {
   "cell_type": "raw",
   "id": "15dede2a",
   "metadata": {},
   "source": [
    "Base Case(s): A base case is a condition that, when met, causes the recursive function to stop calling itself and return a result immediately. It provides a termination point for the recursion.\n",
    "\n",
    "Recursive Case: In the recursive case, the function calls itself with modified arguments to move closer to the base case. This typically involves breaking down the problem into smaller, more manageable parts."
   ]
  },
  {
   "cell_type": "code",
   "execution_count": 10,
   "id": "bbdff716",
   "metadata": {},
   "outputs": [],
   "source": [
    "#factorial of a number\n",
    "def factorial(n):\n",
    "    # Base case\n",
    "    if n == 0:\n",
    "        return 1\n",
    "    # Recursive case\n",
    "    else:\n",
    "        return n * factorial(n - 1)"
   ]
  },
  {
   "cell_type": "raw",
   "id": "11412690",
   "metadata": {},
   "source": [
    "In this example:\n",
    "The base case is when n is equal to 0. In this case, the function returns 1 because the factorial of 0 is 1.\n",
    "\n",
    "In the recursive case, the function multiplies n by the result of factorial(n - 1). This recursive call reduces the problem to a smaller subproblem until the base case is reached."
   ]
  },
  {
   "cell_type": "code",
   "execution_count": 11,
   "id": "7b67ee58",
   "metadata": {},
   "outputs": [
    {
     "name": "stdout",
     "output_type": "stream",
     "text": [
      "120\n"
     ]
    }
   ],
   "source": [
    "result = factorial(5)\n",
    "print(result)  # Output: 120 (5! = 5 * 4 * 3 * 2 * 1 = 120)"
   ]
  },
  {
   "cell_type": "markdown",
   "id": "57e7534e",
   "metadata": {},
   "source": [
    "Recursion can be a powerful and elegant way to solve problems, but it's essential to be cautious when using it. "
   ]
  },
  {
   "cell_type": "markdown",
   "id": "ead89db8",
   "metadata": {},
   "source": [
    "If not implemented correctly, recursive functions can lead to infinite recursion (recursion without reaching the base case), causing a program to crash with a \"RecursionError.\" It's also important to consider the performance implications, as excessive recursion can lead to a stack overflow."
   ]
  },
  {
   "cell_type": "markdown",
   "id": "0b63e518",
   "metadata": {},
   "source": [
    "When working with recursion, make sure to follow these best practices:"
   ]
  },
  {
   "cell_type": "raw",
   "id": "63c1b781",
   "metadata": {},
   "source": [
    "Define clear base cases to ensure termination.\n",
    "\n",
    "Ensure that recursive calls move toward the base case.\n",
    "\n",
    "Be mindful of performance and potential stack overflow for deep recursion.\n",
    "\n",
    "Consider using iterative solutions for problems that can be solved more efficiently without recursion."
   ]
  },
  {
   "cell_type": "markdown",
   "id": "f990eaac",
   "metadata": {},
   "source": [
    "# Modules in Python"
   ]
  },
  {
   "cell_type": "markdown",
   "id": "5fb5b919",
   "metadata": {},
   "source": [
    "A module is a file that contains Python code, including variables, functions, and classes. Modules are used to organize code into reusable and logical units. "
   ]
  },
  {
   "cell_type": "markdown",
   "id": "c4dbf135",
   "metadata": {},
   "source": [
    "Modules help keep your codebase clean, promote code reusability, and make it easier to manage and maintain your Python projects."
   ]
  },
  {
   "cell_type": "markdown",
   "id": "52c0746e",
   "metadata": {},
   "source": [
    "Modules can be written by you or obtained from other sources, such as Python's standard library or third-party libraries."
   ]
  },
  {
   "cell_type": "markdown",
   "id": "6f9ca3d9",
   "metadata": {},
   "source": [
    "Here's how modules work in Python:"
   ]
  },
  {
   "cell_type": "markdown",
   "id": "0e3e2cb4",
   "metadata": {},
   "source": [
    "## Creating a Module:"
   ]
  },
  {
   "cell_type": "markdown",
   "id": "1faf929a",
   "metadata": {},
   "source": [
    "You can create your own Python module by creating a .py file. For example, if you want to create a module called my_module, you would create a file named my_module.py."
   ]
  },
  {
   "cell_type": "markdown",
   "id": "a68c313c",
   "metadata": {},
   "source": [
    "## Importing Modules:"
   ]
  },
  {
   "cell_type": "markdown",
   "id": "5d3a89b7",
   "metadata": {},
   "source": [
    "To use the functionality defined in a module, you need to import it in your Python script or another module. There are several ways to import modules:"
   ]
  },
  {
   "cell_type": "markdown",
   "id": "8894cc83",
   "metadata": {},
   "source": [
    "### Import the entire module:"
   ]
  },
  {
   "cell_type": "code",
   "execution_count": null,
   "id": "a1aeb814",
   "metadata": {},
   "outputs": [],
   "source": [
    "import my_module"
   ]
  },
  {
   "cell_type": "code",
   "execution_count": 12,
   "id": "5bb3dcec",
   "metadata": {},
   "outputs": [
    {
     "ename": "ModuleNotFoundError",
     "evalue": "No module named 'my_module'",
     "output_type": "error",
     "traceback": [
      "\u001b[1;31m---------------------------------------------------------------------------\u001b[0m",
      "\u001b[1;31mModuleNotFoundError\u001b[0m                       Traceback (most recent call last)",
      "Input \u001b[1;32mIn [12]\u001b[0m, in \u001b[0;36m<cell line: 1>\u001b[1;34m()\u001b[0m\n\u001b[1;32m----> 1\u001b[0m \u001b[38;5;28;01mimport\u001b[39;00m \u001b[38;5;21;01mmy_module\u001b[39;00m\n",
      "\u001b[1;31mModuleNotFoundError\u001b[0m: No module named 'my_module'"
     ]
    }
   ],
   "source": [
    "#If the module isn't present then you will get the ModuleNotFoundError \n",
    "import my_module"
   ]
  },
  {
   "cell_type": "markdown",
   "id": "498c3a31",
   "metadata": {},
   "source": [
    "### Import specific items from a module:"
   ]
  },
  {
   "cell_type": "code",
   "execution_count": null,
   "id": "0516a65d",
   "metadata": {},
   "outputs": [],
   "source": [
    "from my_module import my_function, my_variable"
   ]
  },
  {
   "cell_type": "markdown",
   "id": "63453e10",
   "metadata": {},
   "source": [
    "This allows you to use my_function() and my_variable directly without the module prefix."
   ]
  },
  {
   "cell_type": "markdown",
   "id": "165878b7",
   "metadata": {},
   "source": [
    "### Import with an alias:"
   ]
  },
  {
   "cell_type": "code",
   "execution_count": null,
   "id": "fe0c23a7",
   "metadata": {},
   "outputs": [],
   "source": [
    "import my_module as mm"
   ]
  },
  {
   "cell_type": "markdown",
   "id": "a538927e",
   "metadata": {},
   "source": [
    "You can use an alias to shorten the module name when accessing its content, like mm.my_function()."
   ]
  },
  {
   "cell_type": "markdown",
   "id": "6bfba16e",
   "metadata": {},
   "source": [
    "## Using Python's Standard Library Modules:"
   ]
  },
  {
   "cell_type": "markdown",
   "id": "f38d4dba",
   "metadata": {},
   "source": [
    "Python also includes a vast standard library with many built-in modules for various purposes."
   ]
  },
  {
   "cell_type": "markdown",
   "id": "a4d5437d",
   "metadata": {},
   "source": [
    "You can use these modules by importing them just like your own modules. For example, you can import the math module to access mathematical functions."
   ]
  },
  {
   "cell_type": "code",
   "execution_count": 13,
   "id": "669f9323",
   "metadata": {},
   "outputs": [],
   "source": [
    "import math\n",
    "\n",
    "result = math.sqrt(16)"
   ]
  },
  {
   "cell_type": "markdown",
   "id": "f5b0ac17",
   "metadata": {},
   "source": [
    "## Third-Party Modules:"
   ]
  },
  {
   "cell_type": "markdown",
   "id": "b4e09407",
   "metadata": {},
   "source": [
    "Python's ecosystem benefits from a wide range of third-party libraries and modules created by the community. "
   ]
  },
  {
   "cell_type": "markdown",
   "id": "472ca817",
   "metadata": {},
   "source": [
    "You can install these modules using package managers like pip. Once installed, you can import and use them in your projects."
   ]
  },
  {
   "cell_type": "code",
   "execution_count": 14,
   "id": "4bebe4b7",
   "metadata": {},
   "outputs": [],
   "source": [
    "# Installing a third-party module\n",
    "# pip install requests\n",
    "\n",
    "import requests\n",
    "\n",
    "response = requests.get(\"https://www.example.com\")\n"
   ]
  },
  {
   "cell_type": "markdown",
   "id": "5313a665",
   "metadata": {},
   "source": [
    "## Module Search Path:"
   ]
  },
  {
   "cell_type": "markdown",
   "id": "5d386adb",
   "metadata": {},
   "source": [
    "Python uses a search path to locate modules. The search path includes the current directory, standard library directories, and additional directories specified in the sys.path list. "
   ]
  },
  {
   "cell_type": "markdown",
   "id": "e40fc583",
   "metadata": {},
   "source": [
    "You can modify sys.path if needed, but it's generally better to structure your project and use relative imports to maintain a clear module hierarchy."
   ]
  },
  {
   "cell_type": "markdown",
   "id": "4dde7319",
   "metadata": {},
   "source": [
    "## Creating and Using __init__.py:"
   ]
  },
  {
   "cell_type": "markdown",
   "id": "0fe8ef4d",
   "metadata": {},
   "source": [
    "If you want a directory to be recognized as a Python package, it should contain an __init__.py file (which can be empty). This file tells Python that the directory is a package and can be used for importing its modules."
   ]
  },
  {
   "cell_type": "raw",
   "id": "8ccfe755",
   "metadata": {},
   "source": [
    "my_package/\n",
    "   __init__.py\n",
    "   module1.py\n",
    "   module2.py"
   ]
  },
  {
   "cell_type": "markdown",
   "id": "3c14eb45",
   "metadata": {},
   "source": [
    "Then, you can import modules from the package like this:"
   ]
  },
  {
   "cell_type": "raw",
   "id": "383f0388",
   "metadata": {},
   "source": [
    "from my_package import module1"
   ]
  },
  {
   "cell_type": "markdown",
   "id": "077f7be2",
   "metadata": {},
   "source": [
    "Modules are a fundamental concept in Python, enabling code organization, reuse, and maintainability. "
   ]
  },
  {
   "cell_type": "markdown",
   "id": "39e5de11",
   "metadata": {},
   "source": [
    "By breaking your code into modular pieces, you can build larger, more complex applications while keeping each component manageable and well-structured."
   ]
  },
  {
   "cell_type": "code",
   "execution_count": null,
   "id": "f2c6633c",
   "metadata": {},
   "outputs": [],
   "source": []
  }
 ],
 "metadata": {
  "kernelspec": {
   "display_name": "Python 3 (ipykernel)",
   "language": "python",
   "name": "python3"
  },
  "language_info": {
   "codemirror_mode": {
    "name": "ipython",
    "version": 3
   },
   "file_extension": ".py",
   "mimetype": "text/x-python",
   "name": "python",
   "nbconvert_exporter": "python",
   "pygments_lexer": "ipython3",
   "version": "3.9.12"
  }
 },
 "nbformat": 4,
 "nbformat_minor": 5
}
